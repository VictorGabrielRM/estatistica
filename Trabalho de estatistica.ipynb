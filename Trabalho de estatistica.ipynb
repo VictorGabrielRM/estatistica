{
 "cells": [
  {
   "cell_type": "markdown",
   "metadata": {},
   "source": [
    "## Estátistica\n",
    "\n",
    "Analise das vendas dos produtos A e B no estado do Rio Grande do Norte nos anos 2016 e 2017\n",
    "\n",
    "Autor: Victor Gabriel Ribeiro Mangabeiro\n",
    "\n",
    "Pos BIG DATA"
   ]
  },
  {
   "cell_type": "markdown",
   "metadata": {},
   "source": [
    "# Sobre este estudo\n",
    "\n",
    "Nesta apresentação, foram utilizados os dados disponibilizados no moodle. \n",
    "O arquivo contém informações sobre a venda de dois produtos nos municipios brasileiros.\n",
    "\n",
    "Neste estudo será utilizado os dados do estado do Rio Grande do Norte.\n",
    "\n",
    "[Base de dados](https://moodle.df.senac.br/ead/mod/resource/view.php?id=105731) : Possui os dados de todos os estados.\n",
    "\n",
    "[Base de dados RN](): Possui os dados somente do estado do Rio Grande do Norte."
   ]
  },
  {
   "cell_type": "markdown",
   "metadata": {},
   "source": [
    "# Rio Grande do Norte\n",
    "\n",
    "O estado está situado no nordeste da Região Nordeste e tem por limites o Oceano Atlântico a norte a leste, a Paraíba a sul e o Ceará a oeste.\n",
    "\n",
    "É dividido em 167 municípios e sua área total é de 52 811,126 km².\n",
    "\n",
    "Com uma população de 3,479 milhões de habitantes, é o décimo sexto estado mais populoso do Brasil, possuindo o melhor \n",
    "IDH e a maior renda per capita da região Nordeste e a melhor expectativa de vida do Norte-Nordeste. "
   ]
  },
  {
   "cell_type": "markdown",
   "metadata": {},
   "source": [
    "# Perguntas a serem respondidas\n",
    "\n",
    "Qual a média, moda, mediana, desvio padrão e variancia das vendas dos produtos A e B nos anos de 2016 e 2017?\n",
    "\n",
    "Quais são os três maiores municípios em termos de Vendas dos produtos A e B em cada ano?\n",
    "\n",
    "Quais são os três menores municípios em termos de Vendas dos produtos A e B em cada ano?\n",
    "\n",
    "Quais os municípios que cresceram as vendas de 2017 em relação a 2016? E quais diminuiram?\n",
    "\n",
    "Existe relação entre a distancia da capital e o número de vendas?\n",
    "\n",
    "Qual a média, moda, mediana, 1º quartil, 3º quartil, 7º decil, 84º Percentil da variável \"distancia da capital\"\n",
    "\n",
    "Quais municípios tem a poluação mais jovem e mais idosa?\n",
    "\n",
    "Quais são os três maiores/menores municípios em termos de consumo per capita urbano?\n",
    "\n",
    "Quais municípios tem a poluação mais jovem e mais idosa?\n",
    "\n"
   ]
  },
  {
   "cell_type": "code",
   "execution_count": 1,
   "metadata": {},
   "outputs": [
    {
     "data": {
      "text/html": [
       "        <script type=\"text/javascript\">\n",
       "        window.PlotlyConfig = {MathJaxConfig: 'local'};\n",
       "        if (window.MathJax) {MathJax.Hub.Config({SVG: {font: \"STIX-Web\"}});}\n",
       "        if (typeof require !== 'undefined') {\n",
       "        require.undef(\"plotly\");\n",
       "        requirejs.config({\n",
       "            paths: {\n",
       "                'plotly': ['https://cdn.plot.ly/plotly-latest.min']\n",
       "            }\n",
       "        });\n",
       "        require(['plotly'], function(Plotly) {\n",
       "            window._Plotly = Plotly;\n",
       "        });\n",
       "        }\n",
       "        </script>\n",
       "        "
      ]
     },
     "metadata": {},
     "output_type": "display_data"
    }
   ],
   "source": [
    "import pandas as pd\n",
    "import numpy as np\n",
    "import plotly.plotly as py\n",
    "import plotly.graph_objs as go\n",
    "from plotly.offline import download_plotlyjs, init_notebook_mode, plot, iplot\n",
    "\n",
    "init_notebook_mode(connected=True)\n",
    "\n",
    "\n",
    "file = \"Base-de-Dados.xlsx\"\n",
    "\n",
    "xl = pd.ExcelFile(file)\n",
    "pd.options.display.float_format = '${:,.2f}'.format\n",
    "\n",
    "df1 = xl.parse('Base de dados RN')"
   ]
  },
  {
   "cell_type": "markdown",
   "metadata": {},
   "source": [
    "# Vendas dos produtos nos anos 2016 - 2017\n"
   ]
  },
  {
   "cell_type": "code",
   "execution_count": 2,
   "metadata": {
    "scrolled": false
   },
   "outputs": [
    {
     "data": {
      "application/vnd.plotly.v1+json": {
       "config": {
        "linkText": "Export to plot.ly",
        "plotlyServerURL": "https://plot.ly",
        "responsive": true,
        "showLink": false
       },
       "data": [
        {
         "name": "Produto A",
         "type": "scatter",
         "uid": "ba652689-58fc-4393-8bfc-ba51b126fcb9",
         "x": [
          2016,
          2017
         ],
         "y": [
          48825,
          42816
         ]
        },
        {
         "name": "Produto B",
         "type": "scatter",
         "uid": "29df54a0-2356-43c6-a35b-900914a4bac0",
         "x": [
          2016,
          2017
         ],
         "y": [
          63934,
          60746
         ]
        }
       ],
       "layout": {}
      },
      "text/html": [
       "<div>\n",
       "        \n",
       "        \n",
       "            <div id=\"b30e61b7-53fe-47fd-8a4f-c9c1589fd375\" class=\"plotly-graph-div\" style=\"height:525px; width:100%;\"></div>\n",
       "            <script type=\"text/javascript\">\n",
       "                require([\"plotly\"], function(Plotly) {\n",
       "                    window.PLOTLYENV=window.PLOTLYENV || {};\n",
       "                    window.PLOTLYENV.BASE_URL='https://plot.ly';\n",
       "                    \n",
       "                if (document.getElementById(\"b30e61b7-53fe-47fd-8a4f-c9c1589fd375\")) {\n",
       "                    Plotly.newPlot(\n",
       "                        'b30e61b7-53fe-47fd-8a4f-c9c1589fd375',\n",
       "                        [{\"name\": \"Produto A\", \"type\": \"scatter\", \"uid\": \"26752d2c-dda7-47fc-9259-695aa0a56e91\", \"x\": [2016, 2017], \"y\": [48825, 42816]}, {\"name\": \"Produto B\", \"type\": \"scatter\", \"uid\": \"6d44075c-9b9a-4679-8813-df643e59ee6a\", \"x\": [2016, 2017], \"y\": [63934, 60746]}],\n",
       "                        {},\n",
       "                        {\"showLink\": false, \"linkText\": \"Export to plot.ly\", \"plotlyServerURL\": \"https://plot.ly\", \"responsive\": true}\n",
       "                    ).then(function(){\n",
       "                            \n",
       "var gd = document.getElementById('b30e61b7-53fe-47fd-8a4f-c9c1589fd375');\n",
       "var x = new MutationObserver(function (mutations, observer) {{\n",
       "        var display = window.getComputedStyle(gd).display;\n",
       "        if (!display || display === 'none') {{\n",
       "            console.log([gd, 'removed!']);\n",
       "            Plotly.purge(gd);\n",
       "            observer.disconnect();\n",
       "        }}\n",
       "}});\n",
       "\n",
       "// Listen for the removal of the full notebook cells\n",
       "var notebookContainer = gd.closest('#notebook-container');\n",
       "if (notebookContainer) {{\n",
       "    x.observe(notebookContainer, {childList: true});\n",
       "}}\n",
       "\n",
       "// Listen for the clearing of the current output cell\n",
       "var outputEl = gd.closest('.output');\n",
       "if (outputEl) {{\n",
       "    x.observe(outputEl, {childList: true});\n",
       "}}\n",
       "\n",
       "                        })\n",
       "                };\n",
       "                });\n",
       "            </script>\n",
       "        </div>"
      ]
     },
     "metadata": {},
     "output_type": "display_data"
    }
   ],
   "source": [
    "trace = go.Scatter(\n",
    "    x = [2016,2017],\n",
    "    y = df1[['Produto A em 2016','Produto A em 2017']].sum(),\n",
    "    name= \"Produto A\"\n",
    ")\n",
    "trace2 = go.Scatter(\n",
    "    x = [2016,2017],\n",
    "    y = df1[['Produto B em 2016', 'Produto B em 2017']].sum(),\n",
    "    name= \"Produto B\"\n",
    ")\n",
    "\n",
    "data = [trace,trace2]\n",
    "iplot(data, filename='basic-line')"
   ]
  },
  {
   "cell_type": "markdown",
   "metadata": {},
   "source": [
    "Ambos os produtos tiveram queda do ano de 2016 para o ano 2017.\n",
    "\n",
    "O Produto A obteve um total de vendas em 2016 de 48.825, já em 2017 o total foi 42.816,uma queda de 12,30%.\n",
    "O produto B obteve um total de vendas em 2016 de 63.934, em 2017 o total foi de 60.746,uma queda de 4,98%."
   ]
  },
  {
   "cell_type": "markdown",
   "metadata": {},
   "source": [
    "## Municipios que mais cresceram(vendas)\n",
    "\n",
    "Apesar dos produtos obterem queda do ano de 2016 para 2017,  \n",
    "alguns municipios apresentaram crescimento nas vendas de um ano para o outro."
   ]
  },
  {
   "cell_type": "code",
   "execution_count": 3,
   "metadata": {},
   "outputs": [
    {
     "data": {
      "text/html": [
       "<div>\n",
       "<style scoped>\n",
       "    .dataframe tbody tr th:only-of-type {\n",
       "        vertical-align: middle;\n",
       "    }\n",
       "\n",
       "    .dataframe tbody tr th {\n",
       "        vertical-align: top;\n",
       "    }\n",
       "\n",
       "    .dataframe thead th {\n",
       "        text-align: right;\n",
       "    }\n",
       "</style>\n",
       "<table border=\"1\" class=\"dataframe\">\n",
       "  <thead>\n",
       "    <tr style=\"text-align: right;\">\n",
       "      <th></th>\n",
       "      <th>Produto A em 2016</th>\n",
       "      <th>Produto A em 2017</th>\n",
       "      <th>Crescimento A</th>\n",
       "    </tr>\n",
       "    <tr>\n",
       "      <th>Município_</th>\n",
       "      <th></th>\n",
       "      <th></th>\n",
       "      <th></th>\n",
       "    </tr>\n",
       "  </thead>\n",
       "  <tbody>\n",
       "    <tr>\n",
       "      <th>PAU DOS FERROS</th>\n",
       "      <td>376</td>\n",
       "      <td>381</td>\n",
       "      <td>5</td>\n",
       "    </tr>\n",
       "    <tr>\n",
       "      <th>EXTREMOZ</th>\n",
       "      <td>300</td>\n",
       "      <td>289</td>\n",
       "      <td>-11</td>\n",
       "    </tr>\n",
       "    <tr>\n",
       "      <th>PARNAMIRIM</th>\n",
       "      <td>453</td>\n",
       "      <td>441</td>\n",
       "      <td>-12</td>\n",
       "    </tr>\n",
       "    <tr>\n",
       "      <th>MONTE ALEGRE</th>\n",
       "      <td>291</td>\n",
       "      <td>272</td>\n",
       "      <td>-19</td>\n",
       "    </tr>\n",
       "    <tr>\n",
       "      <th>CAICO</th>\n",
       "      <td>360</td>\n",
       "      <td>339</td>\n",
       "      <td>-21</td>\n",
       "    </tr>\n",
       "    <tr>\n",
       "      <th>AREIA BRANCA</th>\n",
       "      <td>310</td>\n",
       "      <td>288</td>\n",
       "      <td>-22</td>\n",
       "    </tr>\n",
       "    <tr>\n",
       "      <th>MACAIBA</th>\n",
       "      <td>333</td>\n",
       "      <td>307</td>\n",
       "      <td>-26</td>\n",
       "    </tr>\n",
       "    <tr>\n",
       "      <th>CEARA-MIRIM</th>\n",
       "      <td>310</td>\n",
       "      <td>283</td>\n",
       "      <td>-27</td>\n",
       "    </tr>\n",
       "    <tr>\n",
       "      <th>APODI</th>\n",
       "      <td>304</td>\n",
       "      <td>276</td>\n",
       "      <td>-28</td>\n",
       "    </tr>\n",
       "    <tr>\n",
       "      <th>SANTA CRUZ</th>\n",
       "      <td>307</td>\n",
       "      <td>278</td>\n",
       "      <td>-29</td>\n",
       "    </tr>\n",
       "  </tbody>\n",
       "</table>\n",
       "</div>"
      ],
      "text/plain": [
       "                Produto A em 2016  Produto A em 2017  Crescimento A\n",
       "Município_                                                         \n",
       "PAU DOS FERROS                376                381              5\n",
       "EXTREMOZ                      300                289            -11\n",
       "PARNAMIRIM                    453                441            -12\n",
       "MONTE ALEGRE                  291                272            -19\n",
       "CAICO                         360                339            -21\n",
       "AREIA BRANCA                  310                288            -22\n",
       "MACAIBA                       333                307            -26\n",
       "CEARA-MIRIM                   310                283            -27\n",
       "APODI                         304                276            -28\n",
       "SANTA CRUZ                    307                278            -29"
      ]
     },
     "execution_count": 3,
     "metadata": {},
     "output_type": "execute_result"
    }
   ],
   "source": [
    "def f(row):\n",
    "    return row['Produto A em 2017'] - row['Produto A em 2016']\n",
    "\n",
    "df1['Crescimento A'] = df1.apply(f, axis=1)\n",
    "    \n",
    "df1[['Município_', 'Produto A em 2016', 'Produto A em 2017', 'Crescimento A']].set_index('Município_').sort_values(by='Crescimento A',ascending=False).head(10)\n"
   ]
  },
  {
   "cell_type": "markdown",
   "metadata": {},
   "source": [
    "O produto A só apresentou crescimento na cidade Pau Dos Ferros. Um crescimento de 1 %."
   ]
  },
  {
   "cell_type": "code",
   "execution_count": 4,
   "metadata": {
    "scrolled": true
   },
   "outputs": [
    {
     "data": {
      "text/html": [
       "<div>\n",
       "<style scoped>\n",
       "    .dataframe tbody tr th:only-of-type {\n",
       "        vertical-align: middle;\n",
       "    }\n",
       "\n",
       "    .dataframe tbody tr th {\n",
       "        vertical-align: top;\n",
       "    }\n",
       "\n",
       "    .dataframe thead th {\n",
       "        text-align: right;\n",
       "    }\n",
       "</style>\n",
       "<table border=\"1\" class=\"dataframe\">\n",
       "  <thead>\n",
       "    <tr style=\"text-align: right;\">\n",
       "      <th></th>\n",
       "      <th>Produto B em 2016</th>\n",
       "      <th>Produto B em 2017</th>\n",
       "      <th>Crescimento B</th>\n",
       "    </tr>\n",
       "    <tr>\n",
       "      <th>Município_</th>\n",
       "      <th></th>\n",
       "      <th></th>\n",
       "      <th></th>\n",
       "    </tr>\n",
       "  </thead>\n",
       "  <tbody>\n",
       "    <tr>\n",
       "      <th>SERRA NEGRA DO NORTE</th>\n",
       "      <td>490</td>\n",
       "      <td>715</td>\n",
       "      <td>225</td>\n",
       "    </tr>\n",
       "    <tr>\n",
       "      <th>NATAL</th>\n",
       "      <td>3936</td>\n",
       "      <td>4081</td>\n",
       "      <td>145</td>\n",
       "    </tr>\n",
       "    <tr>\n",
       "      <th>MOSSORO</th>\n",
       "      <td>1544</td>\n",
       "      <td>1660</td>\n",
       "      <td>116</td>\n",
       "    </tr>\n",
       "    <tr>\n",
       "      <th>CAICO</th>\n",
       "      <td>828</td>\n",
       "      <td>910</td>\n",
       "      <td>82</td>\n",
       "    </tr>\n",
       "    <tr>\n",
       "      <th>PARNAMIRIM</th>\n",
       "      <td>1155</td>\n",
       "      <td>1236</td>\n",
       "      <td>81</td>\n",
       "    </tr>\n",
       "    <tr>\n",
       "      <th>APODI</th>\n",
       "      <td>497</td>\n",
       "      <td>528</td>\n",
       "      <td>31</td>\n",
       "    </tr>\n",
       "    <tr>\n",
       "      <th>CEARA-MIRIM</th>\n",
       "      <td>446</td>\n",
       "      <td>468</td>\n",
       "      <td>22</td>\n",
       "    </tr>\n",
       "    <tr>\n",
       "      <th>AREIA BRANCA</th>\n",
       "      <td>472</td>\n",
       "      <td>489</td>\n",
       "      <td>17</td>\n",
       "    </tr>\n",
       "    <tr>\n",
       "      <th>ACU</th>\n",
       "      <td>539</td>\n",
       "      <td>554</td>\n",
       "      <td>15</td>\n",
       "    </tr>\n",
       "    <tr>\n",
       "      <th>PAU DOS FERROS</th>\n",
       "      <td>546</td>\n",
       "      <td>559</td>\n",
       "      <td>13</td>\n",
       "    </tr>\n",
       "  </tbody>\n",
       "</table>\n",
       "</div>"
      ],
      "text/plain": [
       "                      Produto B em 2016  Produto B em 2017  Crescimento B\n",
       "Município_                                                               \n",
       "SERRA NEGRA DO NORTE                490                715            225\n",
       "NATAL                              3936               4081            145\n",
       "MOSSORO                            1544               1660            116\n",
       "CAICO                               828                910             82\n",
       "PARNAMIRIM                         1155               1236             81\n",
       "APODI                               497                528             31\n",
       "CEARA-MIRIM                         446                468             22\n",
       "AREIA BRANCA                        472                489             17\n",
       "ACU                                 539                554             15\n",
       "PAU DOS FERROS                      546                559             13"
      ]
     },
     "execution_count": 4,
     "metadata": {},
     "output_type": "execute_result"
    }
   ],
   "source": [
    "def f(row):\n",
    "    return row['Produto B em 2017'] - row['Produto B em 2016']\n",
    "\n",
    "df1['Crescimento B'] = df1.apply(f, axis=1)\n",
    "    \n",
    "df1[['Município_', 'Produto B em 2016', 'Produto B em 2017', 'Crescimento B']].set_index('Município_').sort_values(by='Crescimento B',ascending=False).head(10)\n"
   ]
  },
  {
   "cell_type": "markdown",
   "metadata": {},
   "source": [
    "## Municípios que mais decresceram(vendas)\n",
    "\n",
    "Abaixo os munícipios que obtiveram as maiores quedas para o \n",
    "produto A:"
   ]
  },
  {
   "cell_type": "code",
   "execution_count": 72,
   "metadata": {},
   "outputs": [
    {
     "data": {
      "text/html": [
       "<div>\n",
       "<style scoped>\n",
       "    .dataframe tbody tr th:only-of-type {\n",
       "        vertical-align: middle;\n",
       "    }\n",
       "\n",
       "    .dataframe tbody tr th {\n",
       "        vertical-align: top;\n",
       "    }\n",
       "\n",
       "    .dataframe thead th {\n",
       "        text-align: right;\n",
       "    }\n",
       "</style>\n",
       "<table border=\"1\" class=\"dataframe\">\n",
       "  <thead>\n",
       "    <tr style=\"text-align: right;\">\n",
       "      <th></th>\n",
       "      <th>Produto A em 2016</th>\n",
       "      <th>Produto A em 2017</th>\n",
       "      <th>Crescimento A</th>\n",
       "    </tr>\n",
       "    <tr>\n",
       "      <th>Município_</th>\n",
       "      <th></th>\n",
       "      <th></th>\n",
       "      <th></th>\n",
       "    </tr>\n",
       "  </thead>\n",
       "  <tbody>\n",
       "    <tr>\n",
       "      <th>MOSSORO</th>\n",
       "      <td>557</td>\n",
       "      <td>483</td>\n",
       "      <td>-74</td>\n",
       "    </tr>\n",
       "    <tr>\n",
       "      <th>ACU</th>\n",
       "      <td>325</td>\n",
       "      <td>275</td>\n",
       "      <td>-50</td>\n",
       "    </tr>\n",
       "    <tr>\n",
       "      <th>CANGUARETAMA</th>\n",
       "      <td>329</td>\n",
       "      <td>281</td>\n",
       "      <td>-48</td>\n",
       "    </tr>\n",
       "    <tr>\n",
       "      <th>CURRAIS NOVOS</th>\n",
       "      <td>348</td>\n",
       "      <td>303</td>\n",
       "      <td>-45</td>\n",
       "    </tr>\n",
       "    <tr>\n",
       "      <th>AREZ</th>\n",
       "      <td>289</td>\n",
       "      <td>247</td>\n",
       "      <td>-42</td>\n",
       "    </tr>\n",
       "    <tr>\n",
       "      <th>GROSSOS</th>\n",
       "      <td>294</td>\n",
       "      <td>252</td>\n",
       "      <td>-42</td>\n",
       "    </tr>\n",
       "    <tr>\n",
       "      <th>SERRA NEGRA DO NORTE</th>\n",
       "      <td>289</td>\n",
       "      <td>248</td>\n",
       "      <td>-41</td>\n",
       "    </tr>\n",
       "    <tr>\n",
       "      <th>ALMINO AFONSO</th>\n",
       "      <td>287</td>\n",
       "      <td>246</td>\n",
       "      <td>-41</td>\n",
       "    </tr>\n",
       "    <tr>\n",
       "      <th>MONTANHAS</th>\n",
       "      <td>287</td>\n",
       "      <td>246</td>\n",
       "      <td>-41</td>\n",
       "    </tr>\n",
       "    <tr>\n",
       "      <th>ANGICOS</th>\n",
       "      <td>292</td>\n",
       "      <td>252</td>\n",
       "      <td>-40</td>\n",
       "    </tr>\n",
       "  </tbody>\n",
       "</table>\n",
       "</div>"
      ],
      "text/plain": [
       "                      Produto A em 2016  Produto A em 2017  Crescimento A\n",
       "Município_                                                               \n",
       "MOSSORO                             557                483            -74\n",
       "ACU                                 325                275            -50\n",
       "CANGUARETAMA                        329                281            -48\n",
       "CURRAIS NOVOS                       348                303            -45\n",
       "AREZ                                289                247            -42\n",
       "GROSSOS                             294                252            -42\n",
       "SERRA NEGRA DO NORTE                289                248            -41\n",
       "ALMINO AFONSO                       287                246            -41\n",
       "MONTANHAS                           287                246            -41\n",
       "ANGICOS                             292                252            -40"
      ]
     },
     "execution_count": 72,
     "metadata": {},
     "output_type": "execute_result"
    }
   ],
   "source": [
    "df1[['Município_', 'Produto A em 2016', 'Produto A em 2017', 'Crescimento A']].set_index('Município_').sort_values(by='Crescimento A',ascending=True).head(10)"
   ]
  },
  {
   "cell_type": "markdown",
   "metadata": {},
   "source": [
    "Para o Produto B:"
   ]
  },
  {
   "cell_type": "code",
   "execution_count": 73,
   "metadata": {
    "scrolled": true
   },
   "outputs": [
    {
     "data": {
      "text/html": [
       "<div>\n",
       "<style scoped>\n",
       "    .dataframe tbody tr th:only-of-type {\n",
       "        vertical-align: middle;\n",
       "    }\n",
       "\n",
       "    .dataframe tbody tr th {\n",
       "        vertical-align: top;\n",
       "    }\n",
       "\n",
       "    .dataframe thead th {\n",
       "        text-align: right;\n",
       "    }\n",
       "</style>\n",
       "<table border=\"1\" class=\"dataframe\">\n",
       "  <thead>\n",
       "    <tr style=\"text-align: right;\">\n",
       "      <th></th>\n",
       "      <th>Produto B em 2016</th>\n",
       "      <th>Produto B em 2017</th>\n",
       "      <th>Crescimento B</th>\n",
       "    </tr>\n",
       "    <tr>\n",
       "      <th>Município_</th>\n",
       "      <th></th>\n",
       "      <th></th>\n",
       "      <th></th>\n",
       "    </tr>\n",
       "  </thead>\n",
       "  <tbody>\n",
       "    <tr>\n",
       "      <th>CARAUBAS</th>\n",
       "      <td>405</td>\n",
       "      <td>351</td>\n",
       "      <td>-54</td>\n",
       "    </tr>\n",
       "    <tr>\n",
       "      <th>BREJINHO</th>\n",
       "      <td>357</td>\n",
       "      <td>311</td>\n",
       "      <td>-46</td>\n",
       "    </tr>\n",
       "    <tr>\n",
       "      <th>SAO JOSE DE MIPIBU</th>\n",
       "      <td>454</td>\n",
       "      <td>411</td>\n",
       "      <td>-43</td>\n",
       "    </tr>\n",
       "    <tr>\n",
       "      <th>FLORANIA</th>\n",
       "      <td>392</td>\n",
       "      <td>352</td>\n",
       "      <td>-40</td>\n",
       "    </tr>\n",
       "    <tr>\n",
       "      <th>AFONSO BEZERRA</th>\n",
       "      <td>324</td>\n",
       "      <td>285</td>\n",
       "      <td>-39</td>\n",
       "    </tr>\n",
       "    <tr>\n",
       "      <th>EQUADOR</th>\n",
       "      <td>357</td>\n",
       "      <td>320</td>\n",
       "      <td>-37</td>\n",
       "    </tr>\n",
       "    <tr>\n",
       "      <th>LAJES PINTADAS</th>\n",
       "      <td>329</td>\n",
       "      <td>293</td>\n",
       "      <td>-36</td>\n",
       "    </tr>\n",
       "    <tr>\n",
       "      <th>SANTANA DO SERIDO</th>\n",
       "      <td>401</td>\n",
       "      <td>366</td>\n",
       "      <td>-35</td>\n",
       "    </tr>\n",
       "    <tr>\n",
       "      <th>BOM JESUS</th>\n",
       "      <td>332</td>\n",
       "      <td>297</td>\n",
       "      <td>-35</td>\n",
       "    </tr>\n",
       "    <tr>\n",
       "      <th>LAGOA DE VELHOS</th>\n",
       "      <td>319</td>\n",
       "      <td>284</td>\n",
       "      <td>-35</td>\n",
       "    </tr>\n",
       "  </tbody>\n",
       "</table>\n",
       "</div>"
      ],
      "text/plain": [
       "                    Produto B em 2016  Produto B em 2017  Crescimento B\n",
       "Município_                                                             \n",
       "CARAUBAS                          405                351            -54\n",
       "BREJINHO                          357                311            -46\n",
       "SAO JOSE DE MIPIBU                454                411            -43\n",
       "FLORANIA                          392                352            -40\n",
       "AFONSO BEZERRA                    324                285            -39\n",
       "EQUADOR                           357                320            -37\n",
       "LAJES PINTADAS                    329                293            -36\n",
       "SANTANA DO SERIDO                 401                366            -35\n",
       "BOM JESUS                         332                297            -35\n",
       "LAGOA DE VELHOS                   319                284            -35"
      ]
     },
     "execution_count": 73,
     "metadata": {},
     "output_type": "execute_result"
    }
   ],
   "source": [
    "df1[['Município_', 'Produto B em 2016', 'Produto B em 2017', 'Crescimento B']].set_index('Município_').sort_values(by='Crescimento B',ascending=True).head(10)"
   ]
  },
  {
   "cell_type": "markdown",
   "metadata": {},
   "source": [
    "## Os 3 maiores municípios em vendas\n",
    "\n",
    "Municípios que mais venderam:\n",
    "\n",
    "Produto A 2016"
   ]
  },
  {
   "cell_type": "code",
   "execution_count": 77,
   "metadata": {
    "scrolled": true
   },
   "outputs": [
    {
     "data": {
      "text/html": [
       "<div>\n",
       "<style scoped>\n",
       "    .dataframe tbody tr th:only-of-type {\n",
       "        vertical-align: middle;\n",
       "    }\n",
       "\n",
       "    .dataframe tbody tr th {\n",
       "        vertical-align: top;\n",
       "    }\n",
       "\n",
       "    .dataframe thead th {\n",
       "        text-align: right;\n",
       "    }\n",
       "</style>\n",
       "<table border=\"1\" class=\"dataframe\">\n",
       "  <thead>\n",
       "    <tr style=\"text-align: right;\">\n",
       "      <th></th>\n",
       "      <th>Produto A em 2016</th>\n",
       "      <th>Produto A em 2017</th>\n",
       "    </tr>\n",
       "    <tr>\n",
       "      <th>Município_</th>\n",
       "      <th></th>\n",
       "      <th></th>\n",
       "    </tr>\n",
       "  </thead>\n",
       "  <tbody>\n",
       "    <tr>\n",
       "      <th>NATAL</th>\n",
       "      <td>1065</td>\n",
       "      <td>1029</td>\n",
       "    </tr>\n",
       "    <tr>\n",
       "      <th>MOSSORO</th>\n",
       "      <td>557</td>\n",
       "      <td>483</td>\n",
       "    </tr>\n",
       "    <tr>\n",
       "      <th>PARNAMIRIM</th>\n",
       "      <td>453</td>\n",
       "      <td>441</td>\n",
       "    </tr>\n",
       "  </tbody>\n",
       "</table>\n",
       "</div>"
      ],
      "text/plain": [
       "            Produto A em 2016  Produto A em 2017\n",
       "Município_                                      \n",
       "NATAL                    1065               1029\n",
       "MOSSORO                   557                483\n",
       "PARNAMIRIM                453                441"
      ]
     },
     "execution_count": 77,
     "metadata": {},
     "output_type": "execute_result"
    }
   ],
   "source": [
    "df1[['Município_', 'Produto A em 2016','Produto A em 2017']].set_index('Município_').sort_values(by=['Produto A em 2016', 'Produto A em 2017'],ascending=False).head(3)"
   ]
  },
  {
   "cell_type": "markdown",
   "metadata": {},
   "source": [
    "As 3 cidades acima se mantiveram no topo em ambos os anos em relação as vendas do produto A."
   ]
  },
  {
   "cell_type": "markdown",
   "metadata": {},
   "source": [
    "## Medidas de tendência central(Vendas)\n",
    "\n",
    "Abaixo será analisado a media, moda e mediana das vendas por municipio nos anos de 2016 e 2017."
   ]
  },
  {
   "cell_type": "code",
   "execution_count": 60,
   "metadata": {
    "tags": [
     "hidecode"
    ]
   },
   "outputs": [
    {
     "data": {
      "application/vnd.plotly.v1+json": {
       "config": {
        "linkText": "Export to plot.ly",
        "plotlyServerURL": "https://plot.ly",
        "responsive": true,
        "showLink": false
       },
       "data": [
        {
         "name": "media",
         "text": [
          298,
          261,
          390,
          370
         ],
         "textposition": "auto",
         "type": "bar",
         "uid": "dde150b3-d553-4ba3-9a23-b152aafff6d5",
         "x": [
          "Produto A em 2016",
          "Produto A em 2017",
          "Produto B em 2016",
          "Produto B em 2017"
         ],
         "y": [
          298,
          261,
          390,
          370
         ]
        },
        {
         "name": "Mediana",
         "text": [
          286,
          249,
          333,
          306
         ],
         "textposition": "auto",
         "type": "bar",
         "uid": "282fa98e-a6f7-473b-89e2-07456517137d",
         "x": [
          "Produto A em 2016",
          "Produto A em 2017",
          "Produto B em 2016",
          "Produto B em 2017"
         ],
         "y": [
          286,
          249,
          333,
          306
         ]
        },
        {
         "name": "moda",
         "text": [
          284,
          248,
          323,
          288
         ],
         "textposition": "auto",
         "type": "bar",
         "uid": "05e92ee6-ab22-4c0a-886b-dca7d6caa639",
         "x": [
          "Produto A em 2016",
          "Produto A em 2017",
          "Produto B em 2016",
          "Produto B em 2017"
         ],
         "y": [
          284,
          248,
          323,
          288
         ]
        }
       ],
       "layout": {
        "barmode": "group",
        "title": {
         "text": "Medidas produtos A e B 2016-2017"
        }
       }
      },
      "text/html": [
       "<div>\n",
       "        \n",
       "        \n",
       "            <div id=\"57e14311-3f2f-47d3-8679-29eedefd0ad6\" class=\"plotly-graph-div\" style=\"height:525px; width:100%;\"></div>\n",
       "            <script type=\"text/javascript\">\n",
       "                require([\"plotly\"], function(Plotly) {\n",
       "                    window.PLOTLYENV=window.PLOTLYENV || {};\n",
       "                    window.PLOTLYENV.BASE_URL='https://plot.ly';\n",
       "                    \n",
       "                if (document.getElementById(\"57e14311-3f2f-47d3-8679-29eedefd0ad6\")) {\n",
       "                    Plotly.newPlot(\n",
       "                        '57e14311-3f2f-47d3-8679-29eedefd0ad6',\n",
       "                        [{\"name\": \"media\", \"text\": [298.0, 261.0, 390.0, 370.0], \"textposition\": \"auto\", \"type\": \"bar\", \"uid\": \"fdbf8393-ffb1-4ee5-82e7-fc56a1deac65\", \"x\": [\"Produto A em 2016\", \"Produto A em 2017\", \"Produto B em 2016\", \"Produto B em 2017\"], \"y\": [298.0, 261.0, 390.0, 370.0]}, {\"name\": \"Mediana\", \"text\": [286.0, 249.0, 333.0, 306.0], \"textposition\": \"auto\", \"type\": \"bar\", \"uid\": \"b3ba489d-af3d-4e8a-bf09-02ec970655d1\", \"x\": [\"Produto A em 2016\", \"Produto A em 2017\", \"Produto B em 2016\", \"Produto B em 2017\"], \"y\": [286.0, 249.0, 333.0, 306.0]}, {\"name\": \"moda\", \"text\": [284.0, 248.0, 323.0, 288.0], \"textposition\": \"auto\", \"type\": \"bar\", \"uid\": \"9857e2c7-5430-4ef9-b948-44e047c23d16\", \"x\": [\"Produto A em 2016\", \"Produto A em 2017\", \"Produto B em 2016\", \"Produto B em 2017\"], \"y\": [284, 248, 323, 288]}],\n",
       "                        {\"barmode\": \"group\", \"title\": {\"text\": \"Medidas produtos A e B 2016-2017\"}},\n",
       "                        {\"showLink\": false, \"linkText\": \"Export to plot.ly\", \"plotlyServerURL\": \"https://plot.ly\", \"responsive\": true}\n",
       "                    ).then(function(){\n",
       "                            \n",
       "var gd = document.getElementById('57e14311-3f2f-47d3-8679-29eedefd0ad6');\n",
       "var x = new MutationObserver(function (mutations, observer) {{\n",
       "        var display = window.getComputedStyle(gd).display;\n",
       "        if (!display || display === 'none') {{\n",
       "            console.log([gd, 'removed!']);\n",
       "            Plotly.purge(gd);\n",
       "            observer.disconnect();\n",
       "        }}\n",
       "}});\n",
       "\n",
       "// Listen for the removal of the full notebook cells\n",
       "var notebookContainer = gd.closest('#notebook-container');\n",
       "if (notebookContainer) {{\n",
       "    x.observe(notebookContainer, {childList: true});\n",
       "}}\n",
       "\n",
       "// Listen for the clearing of the current output cell\n",
       "var outputEl = gd.closest('.output');\n",
       "if (outputEl) {{\n",
       "    x.observe(outputEl, {childList: true});\n",
       "}}\n",
       "\n",
       "                        })\n",
       "                };\n",
       "                });\n",
       "            </script>\n",
       "        </div>"
      ]
     },
     "metadata": {},
     "output_type": "display_data"
    }
   ],
   "source": [
    "\n",
    "\n",
    "anos = ['Produto A em 2016', 'Produto A em 2017', 'Produto B em 2016', 'Produto B em 2017']\n",
    "media = df1[['Produto A em 2016','Produto A em 2017','Produto B em 2016', 'Produto B em 2017']].mean().round()\n",
    "mediana = df1[['Produto A em 2016','Produto A em 2017','Produto B em 2016', 'Produto B em 2017']].median().round()\n",
    "moda = df1[['Produto A em 2016','Produto A em 2017','Produto B em 2016', 'Produto B em 2017']].mode().round()\n",
    "\n",
    "\n",
    "#desvio padrão\n",
    "desvio = df1[['Produto A em 2016','Produto A em 2017','Produto B em 2016', 'Produto B em 2017']].std()\n",
    "\n",
    "variancia = df1[['Produto A em 2016','Produto A em 2017','Produto B em 2016', 'Produto B em 2017']].var()\n",
    "\n",
    "trace1 = go.Bar(\n",
    "    x=anos,\n",
    "    y=media,\n",
    "    text=media,\n",
    "    textposition = 'auto',\n",
    "    name='media'\n",
    ")\n",
    "trace2 = go.Bar(\n",
    "    x=anos,\n",
    "    y=mediana,\n",
    "    text=mediana,\n",
    "    textposition = 'auto',\n",
    "    name='Mediana'\n",
    ")\n",
    "\n",
    "trace3 = go.Bar(\n",
    "    x=anos,\n",
    "    y=moda.values[0],\n",
    "    text=moda.values[0],\n",
    "    textposition = 'auto',\n",
    "    name='moda'\n",
    ")\n",
    "\n",
    "data = [trace1, trace2, trace3]\n",
    "layout = go.Layout(\n",
    "    barmode='group',\n",
    "    title='Medidas produtos A e B 2016-2017',\n",
    ")\n",
    "\n",
    "fig = go.Figure(data=data, layout=layout)\n",
    "iplot(fig, filename='grouped-bar')"
   ]
  },
  {
   "cell_type": "markdown",
   "metadata": {},
   "source": [
    "As medidas de tendencia central aprensentam queda de ambos os produtos, seguindo a queda dos valores totais de venda.\n",
    "\n",
    "O desvio padrão e variancia:\n",
    "\n",
    "| Ano | Desvio Padrão | Variancia | Produto|\n",
    "| -----| ------| -------- | ---|\n",
    "| 2016 | 66,32 | 4.398,55 | A |\n",
    "| 2016 | 306,28| 93,809.99| B |\n",
    "| 2017 | 66,59 | 4.434,53 | A |\n",
    "| 2017 | 326,72| 106.744,11| B |\n",
    "\n",
    "O desvio padrão evidencia que os dados estão bem proximos da média para o produto A em ambos os anos, já o produto B\n",
    "possui um desvio padrão alto porém ainda abaixo da média.\n",
    "\n",
    "Os dados de venda do produto B são bem mais variados que os dados do produto A."
   ]
  },
  {
   "cell_type": "code",
   "execution_count": null,
   "metadata": {},
   "outputs": [],
   "source": []
  },
  {
   "cell_type": "code",
   "execution_count": null,
   "metadata": {},
   "outputs": [],
   "source": []
  },
  {
   "cell_type": "markdown",
   "metadata": {},
   "source": [
    "# Média e desvio padrão das demais variaveis\n",
    "\n",
    "Media e desvio padrão das outras variaveis que constam no banco de dados"
   ]
  },
  {
   "cell_type": "markdown",
   "metadata": {},
   "source": [
    "| População Total | População Urbana | População Rural | Homens | Mulheres | Cresc.Dem. (% ao ano) | Pop. Alfabetizada (hab) | Num. Domicílios (Total)|\n",
    "| ------ | --------- | --------- | --------- | --------- | ------ | --------- | --------- |\n",
    "|21278,80 | 16440,76 | 4838,05 | 10465,91 | 10812,90 | 0,46 | 16520,86 | 6723,54 |\n",
    "|75972,57 | 75239,68 | 5808,32 | 36135,66 | 39842,48 | 1,09 | 65545,87 | 24881,93 |\n",
    "\n",
    "\n",
    "\n",
    "| PIB (2015) | PIB Per Capita (2015) | Comércio | Indústria | Serviços | Agribusiness | Bancos | Comércio Varejista | Comércio Atacadista|\n",
    "| ---------- | -------- | ------ | ------- | ------ | ----- | ----- | ------- | ----- |\n",
    "| 344782,10 | 11288,18 | 581,48  | 234,17 | 700,85 | 9,53  | 2,05  | 543,32  | 38,15 |\n",
    "| 1731707,85 | 8337,05  | 2706,47 | 1216,61| 3941,82| 24,30 | 8,08  | 2460,41 | 247,72| \n",
    "\n",
    "\n",
    "\n",
    "| Num. Domicílios (Urbanos) | Num. Domicílios (Rurais) | Cons/per cap/Urb (R\\$/ano) | Cons/per cap/Rur (R\\$/ano) | Distância da Capital | Área | Densidade Demográfica \n",
    "| ------ | --------- | ---------- | --------- | ------ | ----- | ----- |\n",
    "| 5329,91  | 1393,63 | 14757,30 | 6763,57 | 168,85 | 310,37 | 100,91 |\n",
    "| 24689,73 | 1653,34 | 1977,82  | 1774,71 | 105,71 | 313,03 | 444,85 | \n",
    "\n"
   ]
  },
  {
   "cell_type": "markdown",
   "metadata": {},
   "source": [
    "# Analise sobre a variável distancia da capital\n",
    "\n",
    "\n",
    "### média, moda, mediana, 1º quartil, 3º quartil, 7º decil, 84º Percentil da variável \"distancia da capital\"\n",
    "\n",
    "Os dados foram agrupados em classes com amplitude de 50.\n",
    "\n",
    "| Distancia da capital | fi | fa |\n",
    "|  ------- | --- | --- |\n",
    "| 0   -\\| 50 | 21 | 21 |\n",
    "| 50  -\\| 100 | 39 | 60 |\n",
    "| 100 -\\| 150 | 21 | 81 |\n",
    "| 150 -\\| 200 | 21 | 102 |\n",
    "| 200 -\\| 250 | 18 | 120 |\n",
    "| 250 -\\| 300 | 15 | 135 |\n",
    "| 300 -\\| 350 | 22 | 157 |\n",
    "| 350 -\\| 400 | 7 | 164 |\n",
    "|     Total   | 164 |  |\n",
    "\n",
    " \n",
    " \n",
    " "
   ]
  },
  {
   "cell_type": "code",
   "execution_count": 71,
   "metadata": {},
   "outputs": [
    {
     "data": {
      "application/vnd.plotly.v1+json": {
       "config": {
        "linkText": "Export to plot.ly",
        "plotlyServerURL": "https://plot.ly",
        "responsive": true,
        "showLink": false
       },
       "data": [
        {
         "name": "media",
         "text": "168.9",
         "textposition": "auto",
         "type": "bar",
         "uid": "dc1da753-5a9c-40cf-a7d2-c2de6d8cbf1d",
         "x": [
          "Média"
         ],
         "y": [
          168.9
         ]
        },
        {
         "name": "Moda",
         "text": "75",
         "textposition": "auto",
         "type": "bar",
         "uid": "7504aa36-2134-4256-955c-83d5288f397f",
         "x": [
          "Moda"
         ],
         "y": [
          75
         ]
        },
        {
         "name": "Mediana",
         "text": "152.38",
         "textposition": "auto",
         "type": "bar",
         "uid": "47a67c1d-7bc0-45f4-bb51-2e3114d4fd8b",
         "x": [
          "Mediana"
         ],
         "y": [
          152.38
         ]
        },
        {
         "name": "1º Quartil",
         "text": [
          75.64
         ],
         "textposition": "auto",
         "type": "bar",
         "uid": "8f9cee4c-19f9-40ed-b1e8-9420b10a9b10",
         "x": [
          "1° Quartil"
         ],
         "y": [
          75.64
         ]
        },
        {
         "name": "3º Quartil",
         "text": [
          260
         ],
         "textposition": "auto",
         "type": "bar",
         "uid": "23d0c819-60f8-433c-a0af-3befc612fa31",
         "x": [
          "3° Quartil"
         ],
         "y": [
          260
         ]
        },
        {
         "name": "7º Decil",
         "text": [
          235.55
         ],
         "textposition": "auto",
         "type": "bar",
         "uid": "20667abd-6fd6-41eb-9802-66eeed949000",
         "x": [
          "7° Decil"
         ],
         "y": [
          235.55
         ]
        },
        {
         "name": "84º Percentil",
         "text": [
          306.27
         ],
         "textposition": "auto",
         "type": "bar",
         "uid": "916aa240-5b4e-46b2-856b-644851bcbed1",
         "x": [
          "84° Percentil"
         ],
         "y": [
          306.27
         ]
        }
       ],
       "layout": {
        "barmode": "group",
        "title": {
         "text": "Medidas distância da capital"
        }
       }
      },
      "text/html": [
       "<div>\n",
       "        \n",
       "        \n",
       "            <div id=\"f93ad208-697c-438b-8628-fb285894738a\" class=\"plotly-graph-div\" style=\"height:525px; width:100%;\"></div>\n",
       "            <script type=\"text/javascript\">\n",
       "                require([\"plotly\"], function(Plotly) {\n",
       "                    window.PLOTLYENV=window.PLOTLYENV || {};\n",
       "                    window.PLOTLYENV.BASE_URL='https://plot.ly';\n",
       "                    \n",
       "                if (document.getElementById(\"f93ad208-697c-438b-8628-fb285894738a\")) {\n",
       "                    Plotly.newPlot(\n",
       "                        'f93ad208-697c-438b-8628-fb285894738a',\n",
       "                        [{\"name\": \"media\", \"text\": \"168.9\", \"textposition\": \"auto\", \"type\": \"bar\", \"uid\": \"024a8496-b430-4ec7-8fee-da959e9c3d9b\", \"x\": [\"M\\u00e9dia\"], \"y\": [168.9]}, {\"name\": \"Moda\", \"text\": \"75\", \"textposition\": \"auto\", \"type\": \"bar\", \"uid\": \"e14dd452-f4a5-4d58-b940-1e7b67127d06\", \"x\": [\"Moda\"], \"y\": [75]}, {\"name\": \"Mediana\", \"text\": \"152.38\", \"textposition\": \"auto\", \"type\": \"bar\", \"uid\": \"c63c0289-2dfe-4018-a724-c1de9a13c51e\", \"x\": [\"Mediana\"], \"y\": [152.38]}, {\"name\": \"1\\u00ba Quartil\", \"text\": [75.64], \"textposition\": \"auto\", \"type\": \"bar\", \"uid\": \"84ea4785-4ebf-408e-ad71-84bc559468b3\", \"x\": [\"1\\u00b0 Quartil\"], \"y\": [75.64]}, {\"name\": \"3\\u00ba Quartil\", \"text\": [260.0], \"textposition\": \"auto\", \"type\": \"bar\", \"uid\": \"e56f582c-bf12-45db-86f8-3a98e9645764\", \"x\": [\"3\\u00b0 Quartil\"], \"y\": [260]}, {\"name\": \"7\\u00ba Decil\", \"text\": [235.55], \"textposition\": \"auto\", \"type\": \"bar\", \"uid\": \"cef0305b-8f67-4708-96d3-e92176e9d281\", \"x\": [\"7\\u00b0 Decil\"], \"y\": [235.55]}, {\"name\": \"84\\u00ba Percentil\", \"text\": [306.27], \"textposition\": \"auto\", \"type\": \"bar\", \"uid\": \"5f48ac75-8314-4533-80b2-2efdcf7b3f66\", \"x\": [\"84\\u00b0 Percentil\"], \"y\": [306.27]}],\n",
       "                        {\"barmode\": \"group\", \"title\": {\"text\": \"Medidas dist\\u00e2ncia da capital\"}},\n",
       "                        {\"showLink\": false, \"linkText\": \"Export to plot.ly\", \"plotlyServerURL\": \"https://plot.ly\", \"responsive\": true}\n",
       "                    ).then(function(){\n",
       "                            \n",
       "var gd = document.getElementById('f93ad208-697c-438b-8628-fb285894738a');\n",
       "var x = new MutationObserver(function (mutations, observer) {{\n",
       "        var display = window.getComputedStyle(gd).display;\n",
       "        if (!display || display === 'none') {{\n",
       "            console.log([gd, 'removed!']);\n",
       "            Plotly.purge(gd);\n",
       "            observer.disconnect();\n",
       "        }}\n",
       "}});\n",
       "\n",
       "// Listen for the removal of the full notebook cells\n",
       "var notebookContainer = gd.closest('#notebook-container');\n",
       "if (notebookContainer) {{\n",
       "    x.observe(notebookContainer, {childList: true});\n",
       "}}\n",
       "\n",
       "// Listen for the clearing of the current output cell\n",
       "var outputEl = gd.closest('.output');\n",
       "if (outputEl) {{\n",
       "    x.observe(outputEl, {childList: true});\n",
       "}}\n",
       "\n",
       "                        })\n",
       "                };\n",
       "                });\n",
       "            </script>\n",
       "        </div>"
      ]
     },
     "metadata": {},
     "output_type": "display_data"
    }
   ],
   "source": [
    "a = pd.Series([168.90])\n",
    "b = pd.Series([152.38])\n",
    "c = pd.Series([75])\n",
    "Pquartil = pd.Series([75.64])\n",
    "Tquartil = pd.Series([260])\n",
    "Sdecil= pd.Series([235.55])\n",
    "Percentil = pd.Series([306.27])\n",
    "\n",
    "\n",
    "trace1 = go.Bar(\n",
    "    x=['Média'],\n",
    "    y=a,\n",
    "    text=168.90,\n",
    "    textposition = 'auto',\n",
    "    name='media'\n",
    ")\n",
    "trace2 = go.Bar(\n",
    "    x=['Moda'],\n",
    "    y=c,\n",
    "    text=75,\n",
    "    textposition = 'auto',\n",
    "    name='Moda'\n",
    ")\n",
    "\n",
    "trace3 = go.Bar(\n",
    "    x=['Mediana'],\n",
    "    y=b,\n",
    "    text=152.38,\n",
    "    textposition = 'auto',\n",
    "    name='Mediana'\n",
    ")\n",
    "\n",
    "trace4 = go.Bar(\n",
    "    x=['1° Quartil'],\n",
    "    y=Pquartil,\n",
    "    text=Pquartil,\n",
    "    textposition = 'auto',\n",
    "    name='1º Quartil'\n",
    ")\n",
    "\n",
    "trace5 = go.Bar(\n",
    "    x=['3° Quartil'],\n",
    "    y=Tquartil,\n",
    "    text=Tquartil,\n",
    "    textposition = 'auto',\n",
    "    name='3º Quartil'\n",
    ")\n",
    "\n",
    "trace6 = go.Bar(\n",
    "    x=['7° Decil'],\n",
    "    y=Sdecil,\n",
    "    text=Sdecil,\n",
    "    textposition = 'auto',\n",
    "    name='7º Decil'\n",
    ")\n",
    "\n",
    "trace7 = go.Bar(\n",
    "    x=['84° Percentil'],\n",
    "    y=Percentil,\n",
    "    text=Percentil,\n",
    "    textposition = 'auto',\n",
    "    name='84º Percentil'\n",
    ")\n",
    "\n",
    "data = [trace1, trace2, trace3, trace4, trace5, trace6, trace7]\n",
    "layout = go.Layout(\n",
    "    barmode='group',\n",
    "    title='Medidas distância da capital',\n",
    ")\n",
    "\n",
    "fig_dist = go.Figure(data=data, layout=layout)\n",
    "iplot(fig_dist, filename='grouped-bar')"
   ]
  },
  {
   "cell_type": "markdown",
   "metadata": {},
   "source": [
    "# População"
   ]
  }
 ],
 "metadata": {
  "kernelspec": {
   "display_name": "Python 3",
   "language": "python",
   "name": "python3"
  },
  "language_info": {
   "codemirror_mode": {
    "name": "ipython",
    "version": 3
   },
   "file_extension": ".py",
   "mimetype": "text/x-python",
   "name": "python",
   "nbconvert_exporter": "python",
   "pygments_lexer": "ipython3",
   "version": "3.7.3"
  }
 },
 "nbformat": 4,
 "nbformat_minor": 2
}
