{
 "cells": [
  {
   "cell_type": "markdown",
   "metadata": {},
   "source": [
    "## Estátistica\n",
    "\n",
    "Analise das vendas dos produtos A e B no estado do Rio Grande do Norte nos anos 2016 e 2017\n",
    "\n",
    "Autor: Victor Gabriel Ribeiro Mangabeiro\n",
    "\n",
    "Pos BIG DATA"
   ]
  },
  {
   "cell_type": "markdown",
   "metadata": {},
   "source": [
    "# Sobre este estudo\n",
    "\n",
    "Nesta apresentação, foram utilizados os dados disponibilizados no moodle. \n",
    "O arquivo contém informações sobre a venda de dois produtos nos municipios brasileiros.\n",
    "\n",
    "Neste estudo será utilizado os dados do estado do Rio Grande do Norte.\n",
    "\n",
    "[Base de dados](https://moodle.df.senac.br/ead/mod/resource/view.php?id=105731) : Possui os dados de todos os estados.\n",
    "\n",
    "[Base de dados RN](): Possui os dados somente do estado do Rio Grande do Norte."
   ]
  },
  {
   "cell_type": "markdown",
   "metadata": {},
   "source": [
    "# Rio Grande do Norte\n",
    "\n",
    "O estado está situado no nordeste da Região Nordeste e tem por limites o Oceano Atlântico a norte a leste, a Paraíba a sul e o Ceará a oeste.\n",
    "\n",
    "É dividido em 167 municípios e sua área total é de 52 811,126 km².\n",
    "\n",
    "Com uma população de 3,479 milhões de habitantes, é o décimo sexto estado mais populoso do Brasil, possuindo o melhor \n",
    "IDH e a maior renda per capita da região Nordeste e a melhor expectativa de vida do Norte-Nordeste. "
   ]
  },
  {
   "cell_type": "markdown",
   "metadata": {},
   "source": [
    "# Perguntas a serem respondidas\n",
    "\n",
    "Qual a média, moda, mediana, desvio padrão e variancia das vendas dos produtos A e B nos anos de 2016 e 2017?\n",
    "\n",
    "Quais são os três maiores municípios em termos de Vendas dos produtos A e B em cada ano?\n",
    "\n",
    "Quais são os três menores municípios em termos de Vendas dos produtos A e B em cada ano?\n",
    "\n",
    "Quais os municípios que cresceram as vendas de 2017 em relação a 2016? E quais diminuiram?\n",
    "\n",
    "Existe relação entre a distancia da capital e o número de vendas?\n",
    "\n",
    "Qual a média, moda, mediana, 1º quartil, 3º quartil, 7º decil, 84º Percentil da variável \"distancia da capital\"\n",
    "\n",
    "Quais municípios tem a poluação mais jovem e mais idosa?\n",
    "\n",
    "Quais são os três maiores/menores municípios em termos de consumo per capita urbano?\n",
    "\n",
    "Quais municípios tem a poluação mais jovem e mais idosa?\n",
    "\n"
   ]
  },
  {
   "cell_type": "code",
   "execution_count": 12,
   "metadata": {},
   "outputs": [
    {
     "data": {
      "text/html": [
       "        <script type=\"text/javascript\">\n",
       "        window.PlotlyConfig = {MathJaxConfig: 'local'};\n",
       "        if (window.MathJax) {MathJax.Hub.Config({SVG: {font: \"STIX-Web\"}});}\n",
       "        if (typeof require !== 'undefined') {\n",
       "        require.undef(\"plotly\");\n",
       "        requirejs.config({\n",
       "            paths: {\n",
       "                'plotly': ['https://cdn.plot.ly/plotly-latest.min']\n",
       "            }\n",
       "        });\n",
       "        require(['plotly'], function(Plotly) {\n",
       "            window._Plotly = Plotly;\n",
       "        });\n",
       "        }\n",
       "        </script>\n",
       "        "
      ]
     },
     "metadata": {},
     "output_type": "display_data"
    }
   ],
   "source": [
    "import pandas as pd\n",
    "import numpy as np\n",
    "import plotly.plotly as py\n",
    "import plotly.graph_objs as go\n",
    "from plotly.offline import download_plotlyjs, init_notebook_mode, plot, iplot\n",
    "\n",
    "init_notebook_mode(connected=True)\n",
    "\n",
    "plt.style.use('ggplot')\n",
    "\n",
    "file = \"Base-de-Dados.xlsx\"\n",
    "\n",
    "xl = pd.ExcelFile(file)\n",
    "pd.options.display.float_format = '${:,.2f}'.format\n",
    "\n",
    "df1 = xl.parse('Base de dados RN')"
   ]
  },
  {
   "cell_type": "markdown",
   "metadata": {},
   "source": [
    "# Vendas dos produtos nos anos 2016 - 2017\n"
   ]
  },
  {
   "cell_type": "code",
   "execution_count": 69,
   "metadata": {
    "scrolled": false
   },
   "outputs": [
    {
     "data": {
      "application/vnd.plotly.v1+json": {
       "config": {
        "linkText": "Export to plot.ly",
        "plotlyServerURL": "https://plot.ly",
        "responsive": true,
        "showLink": false
       },
       "data": [
        {
         "name": "Produto A",
         "type": "scatter",
         "uid": "3cee5fda-c5a0-4e66-b6af-84ef7a9cf089",
         "x": [
          2016,
          2017
         ],
         "y": [
          48825,
          42816
         ]
        },
        {
         "name": "Produto B",
         "type": "scatter",
         "uid": "9f50541e-db3f-4220-a68b-72fdb2054301",
         "x": [
          2016,
          2017
         ],
         "y": [
          63934,
          60746
         ]
        }
       ],
       "layout": {}
      },
      "text/html": [
       "<div>\n",
       "        \n",
       "        \n",
       "            <div id=\"1b4ca3ba-174b-457b-96fe-92615b17c64f\" class=\"plotly-graph-div\" style=\"height:525px; width:100%;\"></div>\n",
       "            <script type=\"text/javascript\">\n",
       "                require([\"plotly\"], function(Plotly) {\n",
       "                    window.PLOTLYENV=window.PLOTLYENV || {};\n",
       "                    window.PLOTLYENV.BASE_URL='https://plot.ly';\n",
       "                    \n",
       "                if (document.getElementById(\"1b4ca3ba-174b-457b-96fe-92615b17c64f\")) {\n",
       "                    Plotly.newPlot(\n",
       "                        '1b4ca3ba-174b-457b-96fe-92615b17c64f',\n",
       "                        [{\"name\": \"Produto A\", \"type\": \"scatter\", \"uid\": \"48b52183-7e21-40bb-8440-e7fa41a3a3ee\", \"x\": [2016, 2017], \"y\": [48825, 42816]}, {\"name\": \"Produto B\", \"type\": \"scatter\", \"uid\": \"2a5ad095-381a-4e08-af6d-22028a8a93b9\", \"x\": [2016, 2017], \"y\": [63934, 60746]}],\n",
       "                        {},\n",
       "                        {\"showLink\": false, \"linkText\": \"Export to plot.ly\", \"plotlyServerURL\": \"https://plot.ly\", \"responsive\": true}\n",
       "                    ).then(function(){\n",
       "                            \n",
       "var gd = document.getElementById('1b4ca3ba-174b-457b-96fe-92615b17c64f');\n",
       "var x = new MutationObserver(function (mutations, observer) {{\n",
       "        var display = window.getComputedStyle(gd).display;\n",
       "        if (!display || display === 'none') {{\n",
       "            console.log([gd, 'removed!']);\n",
       "            Plotly.purge(gd);\n",
       "            observer.disconnect();\n",
       "        }}\n",
       "}});\n",
       "\n",
       "// Listen for the removal of the full notebook cells\n",
       "var notebookContainer = gd.closest('#notebook-container');\n",
       "if (notebookContainer) {{\n",
       "    x.observe(notebookContainer, {childList: true});\n",
       "}}\n",
       "\n",
       "// Listen for the clearing of the current output cell\n",
       "var outputEl = gd.closest('.output');\n",
       "if (outputEl) {{\n",
       "    x.observe(outputEl, {childList: true});\n",
       "}}\n",
       "\n",
       "                        })\n",
       "                };\n",
       "                });\n",
       "            </script>\n",
       "        </div>"
      ]
     },
     "metadata": {},
     "output_type": "display_data"
    }
   ],
   "source": [
    "trace = go.Scatter(\n",
    "    x = [2016,2017],\n",
    "    y = df1[['Produto A em 2016','Produto A em 2017']].sum(),\n",
    "    name= \"Produto A\"\n",
    ")\n",
    "trace2 = go.Scatter(\n",
    "    x = [2016,2017],\n",
    "    y = df1[['Produto B em 2016', 'Produto B em 2017']].sum(),\n",
    "    name= \"Produto B\"\n",
    ")\n",
    "\n",
    "data = [trace,trace2]\n",
    "iplot(data, filename='basic-line')"
   ]
  },
  {
   "cell_type": "markdown",
   "metadata": {},
   "source": [
    "Ambos os produtos tiveram queda do ano de 2016 para o ano 2017.\n",
    "\n",
    "O Produto A obteve um total de vendas em 2016 de 48.825, já em 2017 o total foi 42.816,uma queda de 12,30%.\n",
    "O produto B obteve um total de vendas em 2016 de 63.934, em 2017 o total foi de 60.746,uma queda de 4,98%."
   ]
  },
  {
   "cell_type": "markdown",
   "metadata": {},
   "source": [
    "## Municipios que mais cresceram(vendas)\n",
    "\n",
    "Apesar dos produtos obterem queda do ano de 2016 para 2017,  \n",
    "alguns municipios apresentaram crescimento nas vendas de um ano para o outro."
   ]
  },
  {
   "cell_type": "code",
   "execution_count": 96,
   "metadata": {},
   "outputs": [
    {
     "data": {
      "text/html": [
       "<div>\n",
       "<style scoped>\n",
       "    .dataframe tbody tr th:only-of-type {\n",
       "        vertical-align: middle;\n",
       "    }\n",
       "\n",
       "    .dataframe tbody tr th {\n",
       "        vertical-align: top;\n",
       "    }\n",
       "\n",
       "    .dataframe thead th {\n",
       "        text-align: right;\n",
       "    }\n",
       "</style>\n",
       "<table border=\"1\" class=\"dataframe\">\n",
       "  <thead>\n",
       "    <tr style=\"text-align: right;\">\n",
       "      <th></th>\n",
       "      <th>Produto A em 2016</th>\n",
       "      <th>Produto A em 2017</th>\n",
       "      <th>Crescimento A</th>\n",
       "    </tr>\n",
       "    <tr>\n",
       "      <th>Município_</th>\n",
       "      <th></th>\n",
       "      <th></th>\n",
       "      <th></th>\n",
       "    </tr>\n",
       "  </thead>\n",
       "  <tbody>\n",
       "    <tr>\n",
       "      <th>PAU DOS FERROS</th>\n",
       "      <td>376</td>\n",
       "      <td>381</td>\n",
       "      <td>5</td>\n",
       "    </tr>\n",
       "    <tr>\n",
       "      <th>EXTREMOZ</th>\n",
       "      <td>300</td>\n",
       "      <td>289</td>\n",
       "      <td>-11</td>\n",
       "    </tr>\n",
       "    <tr>\n",
       "      <th>PARNAMIRIM</th>\n",
       "      <td>453</td>\n",
       "      <td>441</td>\n",
       "      <td>-12</td>\n",
       "    </tr>\n",
       "    <tr>\n",
       "      <th>MONTE ALEGRE</th>\n",
       "      <td>291</td>\n",
       "      <td>272</td>\n",
       "      <td>-19</td>\n",
       "    </tr>\n",
       "    <tr>\n",
       "      <th>CAICO</th>\n",
       "      <td>360</td>\n",
       "      <td>339</td>\n",
       "      <td>-21</td>\n",
       "    </tr>\n",
       "    <tr>\n",
       "      <th>AREIA BRANCA</th>\n",
       "      <td>310</td>\n",
       "      <td>288</td>\n",
       "      <td>-22</td>\n",
       "    </tr>\n",
       "    <tr>\n",
       "      <th>MACAIBA</th>\n",
       "      <td>333</td>\n",
       "      <td>307</td>\n",
       "      <td>-26</td>\n",
       "    </tr>\n",
       "    <tr>\n",
       "      <th>CEARA-MIRIM</th>\n",
       "      <td>310</td>\n",
       "      <td>283</td>\n",
       "      <td>-27</td>\n",
       "    </tr>\n",
       "    <tr>\n",
       "      <th>APODI</th>\n",
       "      <td>304</td>\n",
       "      <td>276</td>\n",
       "      <td>-28</td>\n",
       "    </tr>\n",
       "    <tr>\n",
       "      <th>SANTA CRUZ</th>\n",
       "      <td>307</td>\n",
       "      <td>278</td>\n",
       "      <td>-29</td>\n",
       "    </tr>\n",
       "  </tbody>\n",
       "</table>\n",
       "</div>"
      ],
      "text/plain": [
       "                Produto A em 2016  Produto A em 2017  Crescimento A\n",
       "Município_                                                         \n",
       "PAU DOS FERROS                376                381              5\n",
       "EXTREMOZ                      300                289            -11\n",
       "PARNAMIRIM                    453                441            -12\n",
       "MONTE ALEGRE                  291                272            -19\n",
       "CAICO                         360                339            -21\n",
       "AREIA BRANCA                  310                288            -22\n",
       "MACAIBA                       333                307            -26\n",
       "CEARA-MIRIM                   310                283            -27\n",
       "APODI                         304                276            -28\n",
       "SANTA CRUZ                    307                278            -29"
      ]
     },
     "execution_count": 96,
     "metadata": {},
     "output_type": "execute_result"
    }
   ],
   "source": [
    "def f(row):\n",
    "    return row['Produto A em 2017'] - row['Produto A em 2016']\n",
    "\n",
    "df1['Crescimento A'] = df1.apply(f, axis=1)\n",
    "    \n",
    "df1[['Município_', 'Produto A em 2016', 'Produto A em 2017', 'Crescimento A']].set_index('Município_').sort_values(by='Crescimento A',ascending=False).head(10)\n"
   ]
  },
  {
   "cell_type": "markdown",
   "metadata": {},
   "source": [
    "O produto A só apresentou crescimento na cidade Pau Dos Ferros. Um crescimento de 1 %."
   ]
  },
  {
   "cell_type": "code",
   "execution_count": 104,
   "metadata": {},
   "outputs": [
    {
     "data": {
      "text/html": [
       "<div>\n",
       "<style scoped>\n",
       "    .dataframe tbody tr th:only-of-type {\n",
       "        vertical-align: middle;\n",
       "    }\n",
       "\n",
       "    .dataframe tbody tr th {\n",
       "        vertical-align: top;\n",
       "    }\n",
       "\n",
       "    .dataframe thead th {\n",
       "        text-align: right;\n",
       "    }\n",
       "</style>\n",
       "<table border=\"1\" class=\"dataframe\">\n",
       "  <thead>\n",
       "    <tr style=\"text-align: right;\">\n",
       "      <th></th>\n",
       "      <th>Produto B em 2016</th>\n",
       "      <th>Produto B em 2017</th>\n",
       "      <th>Crescimento B</th>\n",
       "    </tr>\n",
       "    <tr>\n",
       "      <th>Município_</th>\n",
       "      <th></th>\n",
       "      <th></th>\n",
       "      <th></th>\n",
       "    </tr>\n",
       "  </thead>\n",
       "  <tbody>\n",
       "    <tr>\n",
       "      <th>SERRA NEGRA DO NORTE</th>\n",
       "      <td>490</td>\n",
       "      <td>715</td>\n",
       "      <td>225</td>\n",
       "    </tr>\n",
       "    <tr>\n",
       "      <th>NATAL</th>\n",
       "      <td>3936</td>\n",
       "      <td>4081</td>\n",
       "      <td>145</td>\n",
       "    </tr>\n",
       "    <tr>\n",
       "      <th>MOSSORO</th>\n",
       "      <td>1544</td>\n",
       "      <td>1660</td>\n",
       "      <td>116</td>\n",
       "    </tr>\n",
       "    <tr>\n",
       "      <th>CAICO</th>\n",
       "      <td>828</td>\n",
       "      <td>910</td>\n",
       "      <td>82</td>\n",
       "    </tr>\n",
       "    <tr>\n",
       "      <th>PARNAMIRIM</th>\n",
       "      <td>1155</td>\n",
       "      <td>1236</td>\n",
       "      <td>81</td>\n",
       "    </tr>\n",
       "    <tr>\n",
       "      <th>APODI</th>\n",
       "      <td>497</td>\n",
       "      <td>528</td>\n",
       "      <td>31</td>\n",
       "    </tr>\n",
       "    <tr>\n",
       "      <th>CEARA-MIRIM</th>\n",
       "      <td>446</td>\n",
       "      <td>468</td>\n",
       "      <td>22</td>\n",
       "    </tr>\n",
       "    <tr>\n",
       "      <th>AREIA BRANCA</th>\n",
       "      <td>472</td>\n",
       "      <td>489</td>\n",
       "      <td>17</td>\n",
       "    </tr>\n",
       "    <tr>\n",
       "      <th>ACU</th>\n",
       "      <td>539</td>\n",
       "      <td>554</td>\n",
       "      <td>15</td>\n",
       "    </tr>\n",
       "    <tr>\n",
       "      <th>PAU DOS FERROS</th>\n",
       "      <td>546</td>\n",
       "      <td>559</td>\n",
       "      <td>13</td>\n",
       "    </tr>\n",
       "  </tbody>\n",
       "</table>\n",
       "</div>"
      ],
      "text/plain": [
       "                      Produto B em 2016  Produto B em 2017  Crescimento B\n",
       "Município_                                                               \n",
       "SERRA NEGRA DO NORTE                490                715            225\n",
       "NATAL                              3936               4081            145\n",
       "MOSSORO                            1544               1660            116\n",
       "CAICO                               828                910             82\n",
       "PARNAMIRIM                         1155               1236             81\n",
       "APODI                               497                528             31\n",
       "CEARA-MIRIM                         446                468             22\n",
       "AREIA BRANCA                        472                489             17\n",
       "ACU                                 539                554             15\n",
       "PAU DOS FERROS                      546                559             13"
      ]
     },
     "execution_count": 104,
     "metadata": {},
     "output_type": "execute_result"
    }
   ],
   "source": [
    "def f(row):\n",
    "    return row['Produto B em 2017'] - row['Produto B em 2016']\n",
    "\n",
    "df1['Crescimento B'] = df1.apply(f, axis=1)\n",
    "    \n",
    "df1[['Município_', 'Produto B em 2016', 'Produto B em 2017', 'Crescimento B']].set_index('Município_').sort_values(by='Crescimento B',ascending=False).head(10)\n"
   ]
  },
  {
   "cell_type": "markdown",
   "metadata": {},
   "source": [
    "## Medidas de tendência central\n",
    "\n",
    "Abaixo será analisado a media, moda e mediana das vendas por municipio nos anos de 2016 e 2017."
   ]
  },
  {
   "cell_type": "code",
   "execution_count": 105,
   "metadata": {
    "tags": [
     "hidecode"
    ]
   },
   "outputs": [
    {
     "data": {
      "application/vnd.plotly.v1+json": {
       "config": {
        "linkText": "Export to plot.ly",
        "plotlyServerURL": "https://plot.ly",
        "responsive": true,
        "showLink": false
       },
       "data": [
        {
         "name": "media",
         "text": [
          298,
          261,
          390,
          370
         ],
         "textposition": "auto",
         "type": "bar",
         "uid": "e5ffa4ff-0db9-4193-8054-f5013fbccc8b",
         "x": [
          "Produto A em 2016",
          "Produto A em 2017",
          "Produto B em 2016",
          "Produto B em 2017"
         ],
         "y": [
          298,
          261,
          390,
          370
         ]
        },
        {
         "name": "Mediana",
         "text": [
          286,
          249,
          333,
          306
         ],
         "textposition": "auto",
         "type": "bar",
         "uid": "ae421cd9-5861-42ab-b6db-87cce421f30a",
         "x": [
          "Produto A em 2016",
          "Produto A em 2017",
          "Produto B em 2016",
          "Produto B em 2017"
         ],
         "y": [
          286,
          249,
          333,
          306
         ]
        },
        {
         "name": "moda",
         "text": [
          284,
          248,
          323,
          288
         ],
         "textposition": "auto",
         "type": "bar",
         "uid": "36999c21-6563-4505-bdd6-ec3405b265d4",
         "x": [
          "Produto A em 2016",
          "Produto A em 2017",
          "Produto B em 2016",
          "Produto B em 2017"
         ],
         "y": [
          284,
          248,
          323,
          288
         ]
        }
       ],
       "layout": {
        "barmode": "group",
        "title": {
         "text": "Medidas produtos A e B 2016-2017"
        }
       }
      },
      "text/html": [
       "<div>\n",
       "        \n",
       "        \n",
       "            <div id=\"a1af3b4b-e88f-4992-9a57-550c424e33cf\" class=\"plotly-graph-div\" style=\"height:525px; width:100%;\"></div>\n",
       "            <script type=\"text/javascript\">\n",
       "                require([\"plotly\"], function(Plotly) {\n",
       "                    window.PLOTLYENV=window.PLOTLYENV || {};\n",
       "                    window.PLOTLYENV.BASE_URL='https://plot.ly';\n",
       "                    \n",
       "                if (document.getElementById(\"a1af3b4b-e88f-4992-9a57-550c424e33cf\")) {\n",
       "                    Plotly.newPlot(\n",
       "                        'a1af3b4b-e88f-4992-9a57-550c424e33cf',\n",
       "                        [{\"name\": \"media\", \"text\": [298.0, 261.0, 390.0, 370.0], \"textposition\": \"auto\", \"type\": \"bar\", \"uid\": \"94624ec7-c3ca-454d-bafa-50deeec9f1c0\", \"x\": [\"Produto A em 2016\", \"Produto A em 2017\", \"Produto B em 2016\", \"Produto B em 2017\"], \"y\": [298.0, 261.0, 390.0, 370.0]}, {\"name\": \"Mediana\", \"text\": [286.0, 249.0, 333.0, 306.0], \"textposition\": \"auto\", \"type\": \"bar\", \"uid\": \"3a2eac8f-a48a-43be-bc2f-2096b8131f5d\", \"x\": [\"Produto A em 2016\", \"Produto A em 2017\", \"Produto B em 2016\", \"Produto B em 2017\"], \"y\": [286.0, 249.0, 333.0, 306.0]}, {\"name\": \"moda\", \"text\": [284.0, 248.0, 323.0, 288.0], \"textposition\": \"auto\", \"type\": \"bar\", \"uid\": \"a5e040bf-2a77-4c39-8f0e-df4419a4e31f\", \"x\": [\"Produto A em 2016\", \"Produto A em 2017\", \"Produto B em 2016\", \"Produto B em 2017\"], \"y\": [284, 248, 323, 288]}],\n",
       "                        {\"barmode\": \"group\", \"title\": {\"text\": \"Medidas produtos A e B 2016-2017\"}},\n",
       "                        {\"showLink\": false, \"linkText\": \"Export to plot.ly\", \"plotlyServerURL\": \"https://plot.ly\", \"responsive\": true}\n",
       "                    ).then(function(){\n",
       "                            \n",
       "var gd = document.getElementById('a1af3b4b-e88f-4992-9a57-550c424e33cf');\n",
       "var x = new MutationObserver(function (mutations, observer) {{\n",
       "        var display = window.getComputedStyle(gd).display;\n",
       "        if (!display || display === 'none') {{\n",
       "            console.log([gd, 'removed!']);\n",
       "            Plotly.purge(gd);\n",
       "            observer.disconnect();\n",
       "        }}\n",
       "}});\n",
       "\n",
       "// Listen for the removal of the full notebook cells\n",
       "var notebookContainer = gd.closest('#notebook-container');\n",
       "if (notebookContainer) {{\n",
       "    x.observe(notebookContainer, {childList: true});\n",
       "}}\n",
       "\n",
       "// Listen for the clearing of the current output cell\n",
       "var outputEl = gd.closest('.output');\n",
       "if (outputEl) {{\n",
       "    x.observe(outputEl, {childList: true});\n",
       "}}\n",
       "\n",
       "                        })\n",
       "                };\n",
       "                });\n",
       "            </script>\n",
       "        </div>"
      ]
     },
     "metadata": {},
     "output_type": "display_data"
    }
   ],
   "source": [
    "\n",
    "\n",
    "anos = ['Produto A em 2016', 'Produto A em 2017', 'Produto B em 2016', 'Produto B em 2017']\n",
    "media = df1[['Produto A em 2016','Produto A em 2017','Produto B em 2016', 'Produto B em 2017']].mean().round()\n",
    "mediana = df1[['Produto A em 2016','Produto A em 2017','Produto B em 2016', 'Produto B em 2017']].median().round()\n",
    "moda = df1[['Produto A em 2016','Produto A em 2017','Produto B em 2016', 'Produto B em 2017']].mode().round()\n",
    "\n",
    "\n",
    "\n",
    "\n",
    "#desvio padrão\n",
    "desvio = df1[['Produto A em 2016','Produto A em 2017','Produto B em 2016', 'Produto B em 2017']].std()\n",
    "\n",
    "variancia = df1[['Produto A em 2016','Produto A em 2017','Produto B em 2016', 'Produto B em 2017']].var()\n",
    "\n",
    "trace1 = go.Bar(\n",
    "    x=anos,\n",
    "    y=media,\n",
    "    text=media,\n",
    "    textposition = 'auto',\n",
    "    name='media'\n",
    ")\n",
    "trace2 = go.Bar(\n",
    "    x=anos,\n",
    "    y=mediana,\n",
    "    text=mediana,\n",
    "    textposition = 'auto',\n",
    "    name='Mediana'\n",
    ")\n",
    "\n",
    "trace3 = go.Bar(\n",
    "    x=anos,\n",
    "    y=moda.values[0],\n",
    "    text=moda.values[0],\n",
    "    textposition = 'auto',\n",
    "    name='moda'\n",
    ")\n",
    "\n",
    "data = [trace1, trace2, trace3]\n",
    "layout = go.Layout(\n",
    "    barmode='group',\n",
    "    title='Medidas produtos A e B 2016-2017',\n",
    ")\n",
    "\n",
    "fig = go.Figure(data=data, layout=layout)\n",
    "iplot(fig, filename='grouped-bar')"
   ]
  },
  {
   "cell_type": "markdown",
   "metadata": {},
   "source": [
    "As medidas de tendencia central aprensentam queda de ambos os produtos, seguindo a queda dos valores totais de venda.\n",
    "\n",
    "O desvio padrão e variancia:\n",
    "\n",
    "| Ano | Desvio Padrão | Variancia | Produto|\n",
    "| -----| ------| -------- | ---|\n",
    "| 2016 | 66,32 | 4.398,55 | A |\n",
    "| 2016 | 306,28| 93,809.99| B |\n",
    "| 2017 | 66,59 | 4.434,53 | A |\n",
    "| 2017 | 326,72| 106.744,11| B |\n",
    "\n",
    "O desvio padrão evidencia que os dados estão bem proximos da média para o produto A em ambos os anos, já o produto B\n",
    "possui um desvio padrão alto porém ainda abaixo da média.\n",
    "\n",
    "Os de venda do produto B são bem mais variados que os dados do produto A."
   ]
  }
 ],
 "metadata": {
  "kernelspec": {
   "display_name": "Python 3",
   "language": "python",
   "name": "python3"
  },
  "language_info": {
   "codemirror_mode": {
    "name": "ipython",
    "version": 3
   },
   "file_extension": ".py",
   "mimetype": "text/x-python",
   "name": "python",
   "nbconvert_exporter": "python",
   "pygments_lexer": "ipython3",
   "version": "3.7.3"
  }
 },
 "nbformat": 4,
 "nbformat_minor": 2
}
