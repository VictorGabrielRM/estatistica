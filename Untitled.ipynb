{
 "cells": [
  {
   "cell_type": "markdown",
   "metadata": {
    "hideCode": false,
    "hidePrompt": false
   },
   "source": [
    "## Estátistica\n",
    "\n",
    "Analise das vendas dos produtos A e B no estado do Rio Grande do Norte nos anos 2016 e 2017\n",
    "\n",
    "Autores: \n",
    "    \n",
    "    Clésio Cardoso dos Santos\n",
    "\n",
    "    Victor Gabriel Ribeiro Mangabeiro\n",
    "\n",
    "Pos BIG DATA"
   ]
  },
  {
   "cell_type": "markdown",
   "metadata": {
    "hideCode": false,
    "hidePrompt": false
   },
   "source": [
    "# Sobre este estudo\n",
    "\n",
    "Nesta apresentação, foram utilizados os dados disponibilizados no moodle. \n",
    "O arquivo contém informações sobre a venda de dois produtos nos municipios brasileiros.\n",
    "\n",
    "Neste estudo será comparado os dados dos estados Goiás e Rio Grande do Norte.\n",
    "\n",
    "[Infografico](https://infograph.venngage.com/ps/detpBlxk0Dk/govsrn) : Infográfico\n",
    "\n",
    "[Base de dados](https://moodle.df.senac.br/ead/mod/resource/view.php?id=105731) : Possui os dados de todos os estados."
   ]
  },
  {
   "cell_type": "markdown",
   "metadata": {
    "hideCode": false,
    "hidePrompt": false
   },
   "source": [
    "# Perguntas a serem respondidas\n",
    "\n",
    "Será realizado um comparativos entre os estados de Goiás e Rio Grande do Norte.\n",
    "\n",
    "Qual a média, moda, mediana, desvio padrão e variancia das vendas dos produtos A e B nos anos de 2016 e 2017 nos estados analisados?\n",
    "\n",
    "Quais são os três maiores municípios(de cada estado) em termos de Vendas dos produtos A e B em cada ano?\n",
    "\n",
    "Quais são os três menores municípios(de cada estado) em termos de Vendas dos produtos A e B em cada ano?\n",
    "\n",
    "Quais os municípios(de cada estado) que cresceram as vendas de 2017 em relação a 2016? E quais diminuiram?\n",
    "\n",
    "Existe relação entre a distancia da capital e o número de vendas?\n",
    "\n",
    "Qual a média, moda, mediana, 1º quartil, 3º quartil, 7º decil, 84º Percentil da variável \"distância da capital\"\n",
    "\n",
    "Quais são os três maiores/menores municípios em termos de PIB per capita?\n",
    "\n",
    "Qual a porcetagem de poluação jovem e idosa de cada estado?\n",
    "\n",
    "Qual a porcetagem de poluação de homens e mulheres de cada estado?\n",
    "\n",
    "Qual a proporção de empresas que atuam nos ramos, Comércio,Indústria,Serviços e Agribusiness de cada estado?\n",
    "\n"
   ]
  },
  {
   "cell_type": "code",
   "execution_count": 1,
   "metadata": {
    "hideCode": false,
    "hidePrompt": false
   },
   "outputs": [],
   "source": [
    "import pandas as pd\n",
    "import numpy as np\n",
    "import matplotlib.pyplot as plt\n",
    "\n",
    "file = \"Base-de-Dados.xlsx\"\n",
    "file2 = \"BaseGO.xlsx\"\n",
    "\n",
    "xl = pd.ExcelFile(file)\n",
    "xl2 = pd.ExcelFile(file2)\n",
    "pd.options.display.float_format = '${:,.2f}'.format\n",
    "\n",
    "rn = xl.parse('Base de dados RN')\n",
    "go = xl2.parse('BaseGO')"
   ]
  },
  {
   "cell_type": "markdown",
   "metadata": {
    "hideCode": false,
    "hidePrompt": false
   },
   "source": [
    "# Vendas dos produtos nos anos 2016 - 2017\n",
    "\n",
    "\n",
    "##### Rio Grande do norte Total de vendas\n"
   ]
  },
  {
   "cell_type": "code",
   "execution_count": 2,
   "metadata": {
    "hideCode": false,
    "hidePrompt": false
   },
   "outputs": [
    {
     "data": {
      "image/png": "[encoded data removed]",
      "text/plain": [
       "<Figure size 432x288 with 1 Axes>"
      ]
     },
     "metadata": {
      "needs_background": "light"
     },
     "output_type": "display_data"
    }
   ],
   "source": [
    "soma_produtoA_rn = rn[['Produto A em 2016','Produto A em 2017']].sum()\n",
    "soma_produtoB_rn = rn[['Produto B em 2016','Produto B em 2017']].sum()\n",
    "tempo = [\"2016\", \"2017\"]\n",
    "\n",
    "fig, ax = plt.subplots()\n",
    "ax.plot(tempo, soma_produtoA_rn, label=\"Produto A\")\n",
    "ax.plot(tempo, soma_produtoB_rn, label=\"Produto B\")\n",
    "ax.legend()\n",
    "fig.suptitle('Total de vendas Rio Grande do norte')\n",
    "\n",
    "plt.show()\n"
   ]
  },
  {
   "cell_type": "markdown",
   "metadata": {
    "hideCode": false,
    "hidePrompt": false
   },
   "source": [
    "##### Goiás Total de vendas"
   ]
  },
  {
   "cell_type": "code",
   "execution_count": 3,
   "metadata": {
    "hideCode": false,
    "hidePrompt": false
   },
   "outputs": [
    {
     "data": {
      "image/png": "[encoded data removed]",
      "text/plain": [
       "<Figure size 432x288 with 1 Axes>"
      ]
     },
     "metadata": {
      "needs_background": "light"
     },
     "output_type": "display_data"
    }
   ],
   "source": [
    "soma_produtoA_go = go[['Produto A em 2016','Produto A em 2017']].sum()\n",
    "soma_produtoB_go = go[['Produto B em 2016','Produto B em 2017']].sum()\n",
    "\n",
    "fig, ax = plt.subplots()\n",
    "ax.plot(tempo, soma_produtoA_go, label=\"Produto A\")\n",
    "ax.plot(tempo, soma_produtoB_go, label=\"Produto B\")\n",
    "ax.legend()\n",
    "fig.suptitle('Total de vendas Goiás')\n",
    "plt.show()\n",
    "\n"
   ]
  },
  {
   "cell_type": "markdown",
   "metadata": {
    "hideCode": false,
    "hidePrompt": false
   },
   "source": [
    "Ambos os produtos tiveram queda do ano de 2016 para o ano 2017. O estado de Goiás teve um melhor rendimento, apesar da queda."
   ]
  },
  {
   "cell_type": "code",
   "execution_count": 4,
   "metadata": {
    "hideCode": false,
    "hidePrompt": false
   },
   "outputs": [
    {
     "name": "stdout",
     "output_type": "stream",
     "text": [
      "Goiás\n",
      "Produto A em 2016    78226\n",
      "Produto A em 2017    70387\n",
      "dtype: int64\n",
      "Produto B em 2016    123212\n",
      "Produto B em 2017    120628\n",
      "dtype: int64\n",
      "\n",
      "\n"
     ]
    }
   ],
   "source": [
    "print(\"Goiás\")\n",
    "print(go[['Produto A em 2016','Produto A em 2017']].sum())\n",
    "print(go[['Produto B em 2016','Produto B em 2017']].sum())\n",
    "print(\"\\n\")"
   ]
  },
  {
   "cell_type": "code",
   "execution_count": 5,
   "metadata": {},
   "outputs": [
    {
     "name": "stdout",
     "output_type": "stream",
     "text": [
      "Rio Grande do Norte\n",
      "Produto A em 2016    48825\n",
      "Produto A em 2017    42816\n",
      "dtype: int64\n",
      "Produto A em 2016    48825\n",
      "Produto A em 2017    42816\n",
      "dtype: int64\n"
     ]
    }
   ],
   "source": [
    "print(\"Rio Grande do Norte\")\n",
    "print(rn[['Produto A em 2016','Produto A em 2017']].sum())\n",
    "print(rn[['Produto A em 2016','Produto A em 2017']].sum())"
   ]
  },
  {
   "cell_type": "markdown",
   "metadata": {
    "hideCode": false,
    "hidePrompt": false
   },
   "source": [
    "## Medidas de tendência central(Vendas)\n",
    "#### Qual a média, moda, mediana, desvio padrão e variancia das vendas dos produtos A e B nos anos de 2016 e 2017?"
   ]
  },
  {
   "cell_type": "code",
   "execution_count": 6,
   "metadata": {
    "hideCode": false,
    "hidePrompt": false
   },
   "outputs": [],
   "source": [
    "anos = ['Produto A em 2016', 'Produto A em 2017', 'Produto B em 2016', 'Produto B em 2017']\n",
    "# Calculo da media\n",
    "media_rn = rn[['Produto A em 2016','Produto A em 2017','Produto B em 2016', 'Produto B em 2017']].mean().round()\n",
    "media_go = go[['Produto A em 2016','Produto A em 2017','Produto B em 2016', 'Produto B em 2017']].mean().round()\n",
    "# Calculo mediana\n",
    "mediana_rn = rn[['Produto A em 2016','Produto A em 2017','Produto B em 2016', 'Produto B em 2017']].median().round()\n",
    "mediana_go = go[['Produto A em 2016','Produto A em 2017','Produto B em 2016', 'Produto B em 2017']].median().round()\n",
    "# Moda\n",
    "moda_rn = rn[['Produto A em 2016','Produto A em 2017','Produto B em 2016', 'Produto B em 2017']].mode().round()\n",
    "moda_go = go[['Produto A em 2016','Produto A em 2017','Produto B em 2016', 'Produto B em 2017']].mode().round()\n",
    "\n",
    "#desvio padrão\n",
    "desvio_rn = rn[['Produto A em 2016','Produto A em 2017','Produto B em 2016', 'Produto B em 2017']].std()\n",
    "desvio_go = go[['Produto A em 2016','Produto A em 2017','Produto B em 2016', 'Produto B em 2017']].std()\n",
    "#variancia\n",
    "variancia_rn = rn[['Produto A em 2016','Produto A em 2017','Produto B em 2016', 'Produto B em 2017']].var()\n",
    "variancia_go = go[['Produto A em 2016','Produto A em 2017','Produto B em 2016', 'Produto B em 2017']].var()\n"
   ]
  },
  {
   "cell_type": "code",
   "execution_count": 7,
   "metadata": {
    "hideCode": false,
    "hidePrompt": false
   },
   "outputs": [
    {
     "data": {
      "image/png": "[encoded data removed]",
      "text/plain": [
       "<Figure size 432x288 with 1 Axes>"
      ]
     },
     "metadata": {
      "needs_background": "light"
     },
     "output_type": "display_data"
    }
   ],
   "source": [
    "men_means, men_std = (20, 35, 30, 35, 27), (2, 3, 4, 1, 2)\n",
    "women_means, women_std = (25, 32, 34, 20, 25), (3, 5, 2, 3, 3)\n",
    "\n",
    "ind = np.arange(len(media_go))  # the x locations for the groups\n",
    "width = 0.35  # the width of the bars\n",
    "\n",
    "fig, ax = plt.subplots()\n",
    "rects1 = ax.bar(ind - width/2, media_go, width, yerr=desvio_go,\n",
    "                label='Goiás')\n",
    "rects2 = ax.bar(ind + width/2, media_rn, width, yerr=desvio_rn,\n",
    "                label='Rio Grande do Norte')\n",
    "\n",
    "# Add some text for labels, title and custom x-axis tick labels, etc.\n",
    "ax.set_ylabel('Scores')\n",
    "ax.set_title('Medidas por ano')\n",
    "ax.set_xticks(ind)\n",
    "ax.set_xticklabels(('Produto A 2016','Produto A 2017', 'Produto b 2016','Produto B 2017'))\n",
    "ax.legend()\n",
    "\n",
    "\n",
    "def autolabel(rects, xpos='center'):\n",
    "    \"\"\"\n",
    "    Attach a text label above each bar in *rects*, displaying its height.\n",
    "\n",
    "    *xpos* indicates which side to place the text w.r.t. the center of\n",
    "    the bar. It can be one of the following {'center', 'right', 'left'}.\n",
    "    \"\"\"\n",
    "\n",
    "    ha = {'center': 'center', 'right': 'left', 'left': 'right'}\n",
    "    offset = {'center': 0, 'right': 1, 'left': -1}\n",
    "\n",
    "    for rect in rects:\n",
    "        height = rect.get_height()\n",
    "        ax.annotate('{}'.format(height),\n",
    "                    xy=(rect.get_x() + rect.get_width() / 2, height),\n",
    "                    xytext=(offset[xpos]*3, 3),  # use 3 points offset\n",
    "                    textcoords=\"offset points\",  # in both directions\n",
    "                    ha=ha[xpos], va='bottom')\n",
    "\n",
    "\n",
    "autolabel(rects1, \"left\")\n",
    "autolabel(rects2, \"right\")\n",
    "\n",
    "fig.tight_layout()\n",
    "plt.rcParams['figure.figsize'] = [8, 8]\n",
    "plt.show()\n"
   ]
  },
  {
   "cell_type": "code",
   "execution_count": 8,
   "metadata": {
    "hideCode": false,
    "hidePrompt": false
   },
   "outputs": [
    {
     "name": "stdout",
     "output_type": "stream",
     "text": [
      "Desvio padrão\n"
     ]
    },
    {
     "data": {
      "text/html": [
       "<div>\n",
       "<style scoped>\n",
       "    .dataframe tbody tr th:only-of-type {\n",
       "        vertical-align: middle;\n",
       "    }\n",
       "\n",
       "    .dataframe tbody tr th {\n",
       "        vertical-align: top;\n",
       "    }\n",
       "\n",
       "    .dataframe thead th {\n",
       "        text-align: right;\n",
       "    }\n",
       "</style>\n",
       "<table border=\"1\" class=\"dataframe\">\n",
       "  <thead>\n",
       "    <tr style=\"text-align: right;\">\n",
       "      <th></th>\n",
       "      <th>produto A 2016 GO</th>\n",
       "      <th>produto A 2016 RN</th>\n",
       "      <th>produto A 2017 GO</th>\n",
       "      <th>produto A 2017 RN</th>\n",
       "      <th>produto B 2016 GO</th>\n",
       "      <th>produto B 2016 RN</th>\n",
       "      <th>produto B 2017 GO</th>\n",
       "      <th>produto B 2017 RN</th>\n",
       "    </tr>\n",
       "  </thead>\n",
       "  <tbody>\n",
       "    <tr>\n",
       "      <th>0</th>\n",
       "      <td>$85.00</td>\n",
       "      <td>$66.00</td>\n",
       "      <td>$107.00</td>\n",
       "      <td>$67.00</td>\n",
       "      <td>$582.00</td>\n",
       "      <td>$306.00</td>\n",
       "      <td>$628.00</td>\n",
       "      <td>$327.00</td>\n",
       "    </tr>\n",
       "  </tbody>\n",
       "</table>\n",
       "</div>"
      ],
      "text/plain": [
       "   produto A 2016 GO  produto A 2016 RN  produto A 2017 GO  produto A 2017 RN  \\\n",
       "0             $85.00             $66.00            $107.00             $67.00   \n",
       "\n",
       "   produto B 2016 GO  produto B 2016 RN  produto B 2017 GO  produto B 2017 RN  \n",
       "0            $582.00            $306.00            $628.00            $327.00  "
      ]
     },
     "execution_count": 8,
     "metadata": {},
     "output_type": "execute_result"
    }
   ],
   "source": [
    "desvio_df = pd.DataFrame.from_records([{ 'produto A 2016 GO': desvio_go[0].round(),\n",
    "                          'produto A 2017 GO': desvio_go[1].round(),\n",
    "                          'produto B 2016 GO': desvio_go[2].round(),\n",
    "                          'produto B 2017 GO': desvio_go[3].round(),\n",
    "                          'produto A 2016 RN': desvio_rn[0].round(),\n",
    "                          'produto A 2017 RN': desvio_rn[1].round(),\n",
    "                          'produto B 2016 RN': desvio_rn[2].round(),\n",
    "                          'produto B 2017 RN': desvio_rn[3].round(),\n",
    "                         }])\n",
    "print(\"Desvio padrão\")\n",
    "desvio_df.head()"
   ]
  },
  {
   "cell_type": "markdown",
   "metadata": {},
   "source": []
  },
  {
   "cell_type": "markdown",
   "metadata": {
    "hideCode": false,
    "hidePrompt": false
   },
   "source": [
    "## Quais são os três maiores municípios(de cada estado) em termos de Vendas dos produtos A e B em cada ano?"
   ]
  },
  {
   "cell_type": "code",
   "execution_count": 11,
   "metadata": {
    "hideCode": false,
    "hidePrompt": false
   },
   "outputs": [
    {
     "name": "stdout",
     "output_type": "stream",
     "text": [
      "Melhores Vendas Goias 2016\n"
     ]
    },
    {
     "data": {
      "text/html": [
       "<div>\n",
       "<style scoped>\n",
       "    .dataframe tbody tr th:only-of-type {\n",
       "        vertical-align: middle;\n",
       "    }\n",
       "\n",
       "    .dataframe tbody tr th {\n",
       "        vertical-align: top;\n",
       "    }\n",
       "\n",
       "    .dataframe thead th {\n",
       "        text-align: right;\n",
       "    }\n",
       "</style>\n",
       "<table border=\"1\" class=\"dataframe\">\n",
       "  <thead>\n",
       "    <tr style=\"text-align: right;\">\n",
       "      <th></th>\n",
       "      <th>Vendas2016</th>\n",
       "    </tr>\n",
       "    <tr>\n",
       "      <th>Município_</th>\n",
       "      <th></th>\n",
       "    </tr>\n",
       "  </thead>\n",
       "  <tbody>\n",
       "    <tr>\n",
       "      <th>GOIANIA</th>\n",
       "      <td>9464</td>\n",
       "    </tr>\n",
       "    <tr>\n",
       "      <th>APARECIDA DE GOIANIA</th>\n",
       "      <td>4684</td>\n",
       "    </tr>\n",
       "    <tr>\n",
       "      <th>ANAPOLIS</th>\n",
       "      <td>3161</td>\n",
       "    </tr>\n",
       "  </tbody>\n",
       "</table>\n",
       "</div>"
      ],
      "text/plain": [
       "                      Vendas2016\n",
       "Município_                      \n",
       "GOIANIA                     9464\n",
       "APARECIDA DE GOIANIA        4684\n",
       "ANAPOLIS                    3161"
      ]
     },
     "execution_count": 11,
     "metadata": {},
     "output_type": "execute_result"
    }
   ],
   "source": [
    "# Melhores cidades em vendas GOIAS\n",
    "go['Vendas2016'] = go['Produto A em 2016'] + go['Produto B em 2016']\n",
    "go['Vendas2017'] = go['Produto A em 2017'] + go['Produto B em 2017']\n",
    "\n",
    "print(\"Melhores Vendas Goias 2016\")\n",
    "go[['Município_','Vendas2016']].set_index('Município_').sort_values(by=['Vendas2016'],ascending=False).head(3)"
   ]
  },
  {
   "cell_type": "code",
   "execution_count": 14,
   "metadata": {
    "hideCode": false,
    "hidePrompt": false
   },
   "outputs": [
    {
     "name": "stdout",
     "output_type": "stream",
     "text": [
      "Melhores Vendas Rio Grande do Norte 2016\n"
     ]
    },
    {
     "data": {
      "text/html": [
       "<div>\n",
       "<style scoped>\n",
       "    .dataframe tbody tr th:only-of-type {\n",
       "        vertical-align: middle;\n",
       "    }\n",
       "\n",
       "    .dataframe tbody tr th {\n",
       "        vertical-align: top;\n",
       "    }\n",
       "\n",
       "    .dataframe thead th {\n",
       "        text-align: right;\n",
       "    }\n",
       "</style>\n",
       "<table border=\"1\" class=\"dataframe\">\n",
       "  <thead>\n",
       "    <tr style=\"text-align: right;\">\n",
       "      <th></th>\n",
       "      <th>Vendas2016</th>\n",
       "    </tr>\n",
       "    <tr>\n",
       "      <th>Município_</th>\n",
       "      <th></th>\n",
       "    </tr>\n",
       "  </thead>\n",
       "  <tbody>\n",
       "    <tr>\n",
       "      <th>CAICARA DO NORTE</th>\n",
       "      <td>$8,330.00</td>\n",
       "    </tr>\n",
       "    <tr>\n",
       "      <th>RODOLFO FERNANDES</th>\n",
       "      <td>$4,281.00</td>\n",
       "    </tr>\n",
       "    <tr>\n",
       "      <th>FRANCISCO DANTAS</th>\n",
       "      <td>$2,813.00</td>\n",
       "    </tr>\n",
       "  </tbody>\n",
       "</table>\n",
       "</div>"
      ],
      "text/plain": [
       "                   Vendas2016\n",
       "Município_                   \n",
       "CAICARA DO NORTE    $8,330.00\n",
       "RODOLFO FERNANDES   $4,281.00\n",
       "FRANCISCO DANTAS    $2,813.00"
      ]
     },
     "execution_count": 14,
     "metadata": {},
     "output_type": "execute_result"
    }
   ],
   "source": [
    "rn['Vendas2016'] = rn['Produto A em 2016'] + go['Produto B em 2016']\n",
    "rn['Vendas2017'] = rn['Produto A em 2017'] + go['Produto B em 2017']\n",
    "print(\"Melhores Vendas Rio Grande do Norte 2016\")\n",
    "rn[['Município_','Vendas2016']].set_index('Município_').sort_values(by=['Vendas2016'],ascending=False).head(3)"
   ]
  },
  {
   "cell_type": "code",
   "execution_count": 15,
   "metadata": {
    "hideCode": false,
    "hidePrompt": false
   },
   "outputs": [
    {
     "name": "stdout",
     "output_type": "stream",
     "text": [
      "Melhores Vendas Goias 2017\n"
     ]
    },
    {
     "data": {
      "text/html": [
       "<div>\n",
       "<style scoped>\n",
       "    .dataframe tbody tr th:only-of-type {\n",
       "        vertical-align: middle;\n",
       "    }\n",
       "\n",
       "    .dataframe tbody tr th {\n",
       "        vertical-align: top;\n",
       "    }\n",
       "\n",
       "    .dataframe thead th {\n",
       "        text-align: right;\n",
       "    }\n",
       "</style>\n",
       "<table border=\"1\" class=\"dataframe\">\n",
       "  <thead>\n",
       "    <tr style=\"text-align: right;\">\n",
       "      <th></th>\n",
       "      <th>Vendas2017</th>\n",
       "    </tr>\n",
       "    <tr>\n",
       "      <th>Município_</th>\n",
       "      <th></th>\n",
       "    </tr>\n",
       "  </thead>\n",
       "  <tbody>\n",
       "    <tr>\n",
       "      <th>GOIANIA</th>\n",
       "      <td>10349</td>\n",
       "    </tr>\n",
       "    <tr>\n",
       "      <th>APARECIDA DE GOIANIA</th>\n",
       "      <td>4752</td>\n",
       "    </tr>\n",
       "    <tr>\n",
       "      <th>ANAPOLIS</th>\n",
       "      <td>3576</td>\n",
       "    </tr>\n",
       "  </tbody>\n",
       "</table>\n",
       "</div>"
      ],
      "text/plain": [
       "                      Vendas2017\n",
       "Município_                      \n",
       "GOIANIA                    10349\n",
       "APARECIDA DE GOIANIA        4752\n",
       "ANAPOLIS                    3576"
      ]
     },
     "execution_count": 15,
     "metadata": {},
     "output_type": "execute_result"
    }
   ],
   "source": [
    "print(\"Melhores Vendas Goias 2017\")\n",
    "go[['Município_','Vendas2017']].set_index('Município_').sort_values(by=['Vendas2017'],ascending=False).head(3)"
   ]
  },
  {
   "cell_type": "code",
   "execution_count": 16,
   "metadata": {
    "hideCode": false,
    "hidePrompt": false
   },
   "outputs": [
    {
     "name": "stdout",
     "output_type": "stream",
     "text": [
      "Melhores Vendas Rio Grande do norte 2017\n"
     ]
    },
    {
     "data": {
      "text/html": [
       "<div>\n",
       "<style scoped>\n",
       "    .dataframe tbody tr th:only-of-type {\n",
       "        vertical-align: middle;\n",
       "    }\n",
       "\n",
       "    .dataframe tbody tr th {\n",
       "        vertical-align: top;\n",
       "    }\n",
       "\n",
       "    .dataframe thead th {\n",
       "        text-align: right;\n",
       "    }\n",
       "</style>\n",
       "<table border=\"1\" class=\"dataframe\">\n",
       "  <thead>\n",
       "    <tr style=\"text-align: right;\">\n",
       "      <th></th>\n",
       "      <th>Vendas2017</th>\n",
       "    </tr>\n",
       "    <tr>\n",
       "      <th>Município_</th>\n",
       "      <th></th>\n",
       "    </tr>\n",
       "  </thead>\n",
       "  <tbody>\n",
       "    <tr>\n",
       "      <th>CAICARA DO NORTE</th>\n",
       "      <td>$8,960.00</td>\n",
       "    </tr>\n",
       "    <tr>\n",
       "      <th>RODOLFO FERNANDES</th>\n",
       "      <td>$4,135.00</td>\n",
       "    </tr>\n",
       "    <tr>\n",
       "      <th>FRANCISCO DANTAS</th>\n",
       "      <td>$3,033.00</td>\n",
       "    </tr>\n",
       "  </tbody>\n",
       "</table>\n",
       "</div>"
      ],
      "text/plain": [
       "                   Vendas2017\n",
       "Município_                   \n",
       "CAICARA DO NORTE    $8,960.00\n",
       "RODOLFO FERNANDES   $4,135.00\n",
       "FRANCISCO DANTAS    $3,033.00"
      ]
     },
     "execution_count": 16,
     "metadata": {},
     "output_type": "execute_result"
    }
   ],
   "source": [
    "print(\"Melhores Vendas Rio Grande do norte 2017\")\n",
    "rn[['Município_','Vendas2017']].set_index('Município_').sort_values(by=['Vendas2017'],ascending=False).head(3)"
   ]
  },
  {
   "cell_type": "markdown",
   "metadata": {
    "hideCode": false,
    "hidePrompt": false
   },
   "source": [
    "## Quais são os três menores municípios(de cada estado) em termos de Vendas dos produtos A e B em cada ano?"
   ]
  },
  {
   "cell_type": "code",
   "execution_count": 17,
   "metadata": {
    "hideCode": false,
    "hidePrompt": false
   },
   "outputs": [
    {
     "name": "stdout",
     "output_type": "stream",
     "text": [
      "Piores Vendas Goias 2016\n"
     ]
    },
    {
     "data": {
      "text/html": [
       "<div>\n",
       "<style scoped>\n",
       "    .dataframe tbody tr th:only-of-type {\n",
       "        vertical-align: middle;\n",
       "    }\n",
       "\n",
       "    .dataframe tbody tr th {\n",
       "        vertical-align: top;\n",
       "    }\n",
       "\n",
       "    .dataframe thead th {\n",
       "        text-align: right;\n",
       "    }\n",
       "</style>\n",
       "<table border=\"1\" class=\"dataframe\">\n",
       "  <thead>\n",
       "    <tr style=\"text-align: right;\">\n",
       "      <th></th>\n",
       "      <th>Vendas2016</th>\n",
       "    </tr>\n",
       "    <tr>\n",
       "      <th>Município_</th>\n",
       "      <th></th>\n",
       "    </tr>\n",
       "  </thead>\n",
       "  <tbody>\n",
       "    <tr>\n",
       "      <th>FORMOSA</th>\n",
       "      <td>599</td>\n",
       "    </tr>\n",
       "    <tr>\n",
       "      <th>VALPARAISO DE GOIAS</th>\n",
       "      <td>599</td>\n",
       "    </tr>\n",
       "    <tr>\n",
       "      <th>LUZIANIA</th>\n",
       "      <td>599</td>\n",
       "    </tr>\n",
       "  </tbody>\n",
       "</table>\n",
       "</div>"
      ],
      "text/plain": [
       "                     Vendas2016\n",
       "Município_                     \n",
       "FORMOSA                     599\n",
       "VALPARAISO DE GOIAS         599\n",
       "LUZIANIA                    599"
      ]
     },
     "execution_count": 17,
     "metadata": {},
     "output_type": "execute_result"
    }
   ],
   "source": [
    "print(\"Piores Vendas Goias 2016\")\n",
    "go[['Município_','Vendas2016']].set_index('Município_').sort_values(by=['Vendas2016'],ascending=True).head(3)"
   ]
  },
  {
   "cell_type": "code",
   "execution_count": 18,
   "metadata": {
    "hideCode": false,
    "hidePrompt": false
   },
   "outputs": [
    {
     "name": "stdout",
     "output_type": "stream",
     "text": [
      "Piores Vendas Rio Grande do Norte 2016\n"
     ]
    },
    {
     "data": {
      "text/html": [
       "<div>\n",
       "<style scoped>\n",
       "    .dataframe tbody tr th:only-of-type {\n",
       "        vertical-align: middle;\n",
       "    }\n",
       "\n",
       "    .dataframe tbody tr th {\n",
       "        vertical-align: top;\n",
       "    }\n",
       "\n",
       "    .dataframe thead th {\n",
       "        text-align: right;\n",
       "    }\n",
       "</style>\n",
       "<table border=\"1\" class=\"dataframe\">\n",
       "  <thead>\n",
       "    <tr style=\"text-align: right;\">\n",
       "      <th></th>\n",
       "      <th>Vendas2016</th>\n",
       "    </tr>\n",
       "    <tr>\n",
       "      <th>Município_</th>\n",
       "      <th></th>\n",
       "    </tr>\n",
       "  </thead>\n",
       "  <tbody>\n",
       "    <tr>\n",
       "      <th>PASSAGEM</th>\n",
       "      <td>$600.00</td>\n",
       "    </tr>\n",
       "    <tr>\n",
       "      <th>RIACHO DE SANTANA</th>\n",
       "      <td>$601.00</td>\n",
       "    </tr>\n",
       "    <tr>\n",
       "      <th>JACANA</th>\n",
       "      <td>$603.00</td>\n",
       "    </tr>\n",
       "  </tbody>\n",
       "</table>\n",
       "</div>"
      ],
      "text/plain": [
       "                   Vendas2016\n",
       "Município_                   \n",
       "PASSAGEM              $600.00\n",
       "RIACHO DE SANTANA     $601.00\n",
       "JACANA                $603.00"
      ]
     },
     "execution_count": 18,
     "metadata": {},
     "output_type": "execute_result"
    }
   ],
   "source": [
    "print(\"Piores Vendas Rio Grande do Norte 2016\")\n",
    "rn[['Município_','Vendas2016']].set_index('Município_').sort_values(by=['Vendas2016'],ascending=True).head(3)"
   ]
  },
  {
   "cell_type": "code",
   "execution_count": 19,
   "metadata": {
    "hideCode": false,
    "hidePrompt": false
   },
   "outputs": [
    {
     "name": "stdout",
     "output_type": "stream",
     "text": [
      "Piores Vendas Goias 2017\n"
     ]
    },
    {
     "data": {
      "text/html": [
       "<div>\n",
       "<style scoped>\n",
       "    .dataframe tbody tr th:only-of-type {\n",
       "        vertical-align: middle;\n",
       "    }\n",
       "\n",
       "    .dataframe tbody tr th {\n",
       "        vertical-align: top;\n",
       "    }\n",
       "\n",
       "    .dataframe thead th {\n",
       "        text-align: right;\n",
       "    }\n",
       "</style>\n",
       "<table border=\"1\" class=\"dataframe\">\n",
       "  <thead>\n",
       "    <tr style=\"text-align: right;\">\n",
       "      <th></th>\n",
       "      <th>Vendas2017</th>\n",
       "    </tr>\n",
       "    <tr>\n",
       "      <th>Município_</th>\n",
       "      <th></th>\n",
       "    </tr>\n",
       "  </thead>\n",
       "  <tbody>\n",
       "    <tr>\n",
       "      <th>VALPARAISO DE GOIAS</th>\n",
       "      <td>529</td>\n",
       "    </tr>\n",
       "    <tr>\n",
       "      <th>AGUAS LINDAS DE GOIAS</th>\n",
       "      <td>529</td>\n",
       "    </tr>\n",
       "    <tr>\n",
       "      <th>LUZIANIA</th>\n",
       "      <td>530</td>\n",
       "    </tr>\n",
       "  </tbody>\n",
       "</table>\n",
       "</div>"
      ],
      "text/plain": [
       "                       Vendas2017\n",
       "Município_                       \n",
       "VALPARAISO DE GOIAS           529\n",
       "AGUAS LINDAS DE GOIAS         529\n",
       "LUZIANIA                      530"
      ]
     },
     "execution_count": 19,
     "metadata": {},
     "output_type": "execute_result"
    }
   ],
   "source": [
    "print(\"Piores Vendas Goias 2017\")\n",
    "go[['Município_','Vendas2017']].set_index('Município_').sort_values(by=['Vendas2017'],ascending=True).head(3)"
   ]
  },
  {
   "cell_type": "code",
   "execution_count": 20,
   "metadata": {
    "hideCode": false,
    "hidePrompt": false
   },
   "outputs": [
    {
     "name": "stdout",
     "output_type": "stream",
     "text": [
      "Piores Vendas Rio Grande do Norte 2017\n"
     ]
    },
    {
     "data": {
      "text/html": [
       "<div>\n",
       "<style scoped>\n",
       "    .dataframe tbody tr th:only-of-type {\n",
       "        vertical-align: middle;\n",
       "    }\n",
       "\n",
       "    .dataframe tbody tr th {\n",
       "        vertical-align: top;\n",
       "    }\n",
       "\n",
       "    .dataframe thead th {\n",
       "        text-align: right;\n",
       "    }\n",
       "</style>\n",
       "<table border=\"1\" class=\"dataframe\">\n",
       "  <thead>\n",
       "    <tr style=\"text-align: right;\">\n",
       "      <th></th>\n",
       "      <th>Vendas2017</th>\n",
       "    </tr>\n",
       "    <tr>\n",
       "      <th>Município_</th>\n",
       "      <th></th>\n",
       "    </tr>\n",
       "  </thead>\n",
       "  <tbody>\n",
       "    <tr>\n",
       "      <th>PASSAGEM</th>\n",
       "      <td>$531.00</td>\n",
       "    </tr>\n",
       "    <tr>\n",
       "      <th>RIACHO DE SANTANA</th>\n",
       "      <td>$531.00</td>\n",
       "    </tr>\n",
       "    <tr>\n",
       "      <th>IPUEIRA</th>\n",
       "      <td>$532.00</td>\n",
       "    </tr>\n",
       "  </tbody>\n",
       "</table>\n",
       "</div>"
      ],
      "text/plain": [
       "                   Vendas2017\n",
       "Município_                   \n",
       "PASSAGEM              $531.00\n",
       "RIACHO DE SANTANA     $531.00\n",
       "IPUEIRA               $532.00"
      ]
     },
     "execution_count": 20,
     "metadata": {},
     "output_type": "execute_result"
    }
   ],
   "source": [
    "print(\"Piores Vendas Rio Grande do Norte 2017\")\n",
    "rn[['Município_','Vendas2017']].set_index('Município_').sort_values(by=['Vendas2017'],ascending=True).head(3)"
   ]
  },
  {
   "cell_type": "markdown",
   "metadata": {
    "hideCode": false,
    "hidePrompt": false
   },
   "source": [
    "## Quais os municípios(de cada estado) que cresceram as vendas de 2017 em relação a 2016? E quais diminuiram?"
   ]
  },
  {
   "cell_type": "markdown",
   "metadata": {
    "hideCode": false,
    "hidePrompt": false
   },
   "source": [
    "### Cidades que cresceram\n",
    "\n",
    "#### RN"
   ]
  },
  {
   "cell_type": "code",
   "execution_count": 21,
   "metadata": {
    "hideCode": false,
    "hidePrompt": false
   },
   "outputs": [
    {
     "name": "stdout",
     "output_type": "stream",
     "text": [
      "Cidades que cresceram RN\n"
     ]
    },
    {
     "data": {
      "text/html": [
       "<div>\n",
       "<style scoped>\n",
       "    .dataframe tbody tr th:only-of-type {\n",
       "        vertical-align: middle;\n",
       "    }\n",
       "\n",
       "    .dataframe tbody tr th {\n",
       "        vertical-align: top;\n",
       "    }\n",
       "\n",
       "    .dataframe thead th {\n",
       "        text-align: right;\n",
       "    }\n",
       "</style>\n",
       "<table border=\"1\" class=\"dataframe\">\n",
       "  <thead>\n",
       "    <tr style=\"text-align: right;\">\n",
       "      <th></th>\n",
       "      <th>Município_</th>\n",
       "      <th>Vendas2016</th>\n",
       "      <th>Vendas2017</th>\n",
       "    </tr>\n",
       "  </thead>\n",
       "  <tbody>\n",
       "    <tr>\n",
       "      <th>16</th>\n",
       "      <td>FRANCISCO DANTAS</td>\n",
       "      <td>$2,813.00</td>\n",
       "      <td>$3,033.00</td>\n",
       "    </tr>\n",
       "    <tr>\n",
       "      <th>23</th>\n",
       "      <td>SERRINHA DOS PINTOS</td>\n",
       "      <td>$816.00</td>\n",
       "      <td>$817.00</td>\n",
       "    </tr>\n",
       "    <tr>\n",
       "      <th>56</th>\n",
       "      <td>OURO BRANCO</td>\n",
       "      <td>$770.00</td>\n",
       "      <td>$774.00</td>\n",
       "    </tr>\n",
       "    <tr>\n",
       "      <th>59</th>\n",
       "      <td>PARAU</td>\n",
       "      <td>$2,035.00</td>\n",
       "      <td>$2,141.00</td>\n",
       "    </tr>\n",
       "    <tr>\n",
       "      <th>73</th>\n",
       "      <td>ALTO DO RODRIGUES</td>\n",
       "      <td>$786.00</td>\n",
       "      <td>$816.00</td>\n",
       "    </tr>\n",
       "    <tr>\n",
       "      <th>89</th>\n",
       "      <td>PEDRO AVELINO</td>\n",
       "      <td>$1,475.00</td>\n",
       "      <td>$1,531.00</td>\n",
       "    </tr>\n",
       "    <tr>\n",
       "      <th>95</th>\n",
       "      <td>LAJES</td>\n",
       "      <td>$1,082.00</td>\n",
       "      <td>$1,093.00</td>\n",
       "    </tr>\n",
       "    <tr>\n",
       "      <th>96</th>\n",
       "      <td>CAICARA DO NORTE</td>\n",
       "      <td>$8,330.00</td>\n",
       "      <td>$8,960.00</td>\n",
       "    </tr>\n",
       "    <tr>\n",
       "      <th>112</th>\n",
       "      <td>SITIO NOVO</td>\n",
       "      <td>$839.00</td>\n",
       "      <td>$1,331.00</td>\n",
       "    </tr>\n",
       "    <tr>\n",
       "      <th>122</th>\n",
       "      <td>TOUROS</td>\n",
       "      <td>$802.00</td>\n",
       "      <td>$812.00</td>\n",
       "    </tr>\n",
       "    <tr>\n",
       "      <th>129</th>\n",
       "      <td>VARZEA</td>\n",
       "      <td>$1,474.00</td>\n",
       "      <td>$1,486.00</td>\n",
       "    </tr>\n",
       "    <tr>\n",
       "      <th>132</th>\n",
       "      <td>SERRINHA</td>\n",
       "      <td>$723.00</td>\n",
       "      <td>$738.00</td>\n",
       "    </tr>\n",
       "    <tr>\n",
       "      <th>136</th>\n",
       "      <td>VILA FLOR</td>\n",
       "      <td>$1,376.00</td>\n",
       "      <td>$1,399.00</td>\n",
       "    </tr>\n",
       "    <tr>\n",
       "      <th>152</th>\n",
       "      <td>IELMO MARINHO</td>\n",
       "      <td>$1,078.00</td>\n",
       "      <td>$1,245.00</td>\n",
       "    </tr>\n",
       "  </tbody>\n",
       "</table>\n",
       "</div>"
      ],
      "text/plain": [
       "              Município_  Vendas2016  Vendas2017\n",
       "16      FRANCISCO DANTAS   $2,813.00   $3,033.00\n",
       "23   SERRINHA DOS PINTOS     $816.00     $817.00\n",
       "56           OURO BRANCO     $770.00     $774.00\n",
       "59                 PARAU   $2,035.00   $2,141.00\n",
       "73     ALTO DO RODRIGUES     $786.00     $816.00\n",
       "89         PEDRO AVELINO   $1,475.00   $1,531.00\n",
       "95                 LAJES   $1,082.00   $1,093.00\n",
       "96      CAICARA DO NORTE   $8,330.00   $8,960.00\n",
       "112           SITIO NOVO     $839.00   $1,331.00\n",
       "122               TOUROS     $802.00     $812.00\n",
       "129               VARZEA   $1,474.00   $1,486.00\n",
       "132             SERRINHA     $723.00     $738.00\n",
       "136            VILA FLOR   $1,376.00   $1,399.00\n",
       "152        IELMO MARINHO   $1,078.00   $1,245.00"
      ]
     },
     "execution_count": 21,
     "metadata": {},
     "output_type": "execute_result"
    }
   ],
   "source": [
    "rn['Vendas2017'].gt(rn['Vendas2016'])\n",
    "print(\"Cidades que cresceram RN\")\n",
    "a = rn[rn['Vendas2017'] > rn['Vendas2016']]\n",
    "a[['Município_', 'Vendas2016','Vendas2017']]"
   ]
  },
  {
   "cell_type": "markdown",
   "metadata": {
    "hideCode": false,
    "hidePrompt": false
   },
   "source": [
    "#### GO"
   ]
  },
  {
   "cell_type": "code",
   "execution_count": 22,
   "metadata": {
    "hideCode": false,
    "hidePrompt": false
   },
   "outputs": [
    {
     "name": "stdout",
     "output_type": "stream",
     "text": [
      "Cidades que cresceram GO\n"
     ]
    },
    {
     "data": {
      "text/html": [
       "<div>\n",
       "<style scoped>\n",
       "    .dataframe tbody tr th:only-of-type {\n",
       "        vertical-align: middle;\n",
       "    }\n",
       "\n",
       "    .dataframe tbody tr th {\n",
       "        vertical-align: top;\n",
       "    }\n",
       "\n",
       "    .dataframe thead th {\n",
       "        text-align: right;\n",
       "    }\n",
       "</style>\n",
       "<table border=\"1\" class=\"dataframe\">\n",
       "  <thead>\n",
       "    <tr style=\"text-align: right;\">\n",
       "      <th></th>\n",
       "      <th>Município_</th>\n",
       "      <th>Vendas2016</th>\n",
       "      <th>Vendas2017</th>\n",
       "    </tr>\n",
       "  </thead>\n",
       "  <tbody>\n",
       "    <tr>\n",
       "      <th>16</th>\n",
       "      <td>ANAPOLIS</td>\n",
       "      <td>3161</td>\n",
       "      <td>3576</td>\n",
       "    </tr>\n",
       "    <tr>\n",
       "      <th>19</th>\n",
       "      <td>APARECIDA DE GOIANIA</td>\n",
       "      <td>4684</td>\n",
       "      <td>4752</td>\n",
       "    </tr>\n",
       "    <tr>\n",
       "      <th>23</th>\n",
       "      <td>ARAGARCAS</td>\n",
       "      <td>848</td>\n",
       "      <td>861</td>\n",
       "    </tr>\n",
       "    <tr>\n",
       "      <th>56</th>\n",
       "      <td>CAMPOS VERDES</td>\n",
       "      <td>771</td>\n",
       "      <td>783</td>\n",
       "    </tr>\n",
       "    <tr>\n",
       "      <th>59</th>\n",
       "      <td>CATALAO</td>\n",
       "      <td>2192</td>\n",
       "      <td>2297</td>\n",
       "    </tr>\n",
       "    <tr>\n",
       "      <th>73</th>\n",
       "      <td>CRIXAS</td>\n",
       "      <td>805</td>\n",
       "      <td>836</td>\n",
       "    </tr>\n",
       "    <tr>\n",
       "      <th>89</th>\n",
       "      <td>FORMOSA</td>\n",
       "      <td>1632</td>\n",
       "      <td>1647</td>\n",
       "    </tr>\n",
       "    <tr>\n",
       "      <th>95</th>\n",
       "      <td>GOIANESIA</td>\n",
       "      <td>1159</td>\n",
       "      <td>1188</td>\n",
       "    </tr>\n",
       "    <tr>\n",
       "      <th>96</th>\n",
       "      <td>GOIANIA</td>\n",
       "      <td>9464</td>\n",
       "      <td>10349</td>\n",
       "    </tr>\n",
       "    <tr>\n",
       "      <th>97</th>\n",
       "      <td>GOIANIRA</td>\n",
       "      <td>735</td>\n",
       "      <td>776</td>\n",
       "    </tr>\n",
       "    <tr>\n",
       "      <th>112</th>\n",
       "      <td>IPAMERI</td>\n",
       "      <td>890</td>\n",
       "      <td>1378</td>\n",
       "    </tr>\n",
       "    <tr>\n",
       "      <th>122</th>\n",
       "      <td>ITAPURANGA</td>\n",
       "      <td>812</td>\n",
       "      <td>824</td>\n",
       "    </tr>\n",
       "    <tr>\n",
       "      <th>132</th>\n",
       "      <td>JOVIANIA</td>\n",
       "      <td>732</td>\n",
       "      <td>744</td>\n",
       "    </tr>\n",
       "    <tr>\n",
       "      <th>136</th>\n",
       "      <td>LUZIANIA</td>\n",
       "      <td>1558</td>\n",
       "      <td>1564</td>\n",
       "    </tr>\n",
       "    <tr>\n",
       "      <th>152</th>\n",
       "      <td>MORRINHOS</td>\n",
       "      <td>1154</td>\n",
       "      <td>1303</td>\n",
       "    </tr>\n",
       "    <tr>\n",
       "      <th>169</th>\n",
       "      <td>NOVO GAMA</td>\n",
       "      <td>884</td>\n",
       "      <td>896</td>\n",
       "    </tr>\n",
       "    <tr>\n",
       "      <th>187</th>\n",
       "      <td>PIRENOPOLIS</td>\n",
       "      <td>898</td>\n",
       "      <td>905</td>\n",
       "    </tr>\n",
       "    <tr>\n",
       "      <th>191</th>\n",
       "      <td>PONTALINA</td>\n",
       "      <td>781</td>\n",
       "      <td>807</td>\n",
       "    </tr>\n",
       "    <tr>\n",
       "      <th>201</th>\n",
       "      <td>RIO VERDE</td>\n",
       "      <td>2361</td>\n",
       "      <td>2404</td>\n",
       "    </tr>\n",
       "    <tr>\n",
       "      <th>215</th>\n",
       "      <td>SANTO ANTONIO DE GOIAS</td>\n",
       "      <td>664</td>\n",
       "      <td>699</td>\n",
       "    </tr>\n",
       "    <tr>\n",
       "      <th>221</th>\n",
       "      <td>SAO LUIS DE MONTES BELOS</td>\n",
       "      <td>923</td>\n",
       "      <td>939</td>\n",
       "    </tr>\n",
       "    <tr>\n",
       "      <th>227</th>\n",
       "      <td>SENADOR CANEDO</td>\n",
       "      <td>1203</td>\n",
       "      <td>1419</td>\n",
       "    </tr>\n",
       "    <tr>\n",
       "      <th>236</th>\n",
       "      <td>TRINDADE</td>\n",
       "      <td>1213</td>\n",
       "      <td>1293</td>\n",
       "    </tr>\n",
       "    <tr>\n",
       "      <th>241</th>\n",
       "      <td>URUACU</td>\n",
       "      <td>1213</td>\n",
       "      <td>1286</td>\n",
       "    </tr>\n",
       "  </tbody>\n",
       "</table>\n",
       "</div>"
      ],
      "text/plain": [
       "                   Município_  Vendas2016  Vendas2017\n",
       "16                   ANAPOLIS        3161        3576\n",
       "19       APARECIDA DE GOIANIA        4684        4752\n",
       "23                  ARAGARCAS         848         861\n",
       "56              CAMPOS VERDES         771         783\n",
       "59                    CATALAO        2192        2297\n",
       "73                     CRIXAS         805         836\n",
       "89                    FORMOSA        1632        1647\n",
       "95                  GOIANESIA        1159        1188\n",
       "96                    GOIANIA        9464       10349\n",
       "97                   GOIANIRA         735         776\n",
       "112                   IPAMERI         890        1378\n",
       "122                ITAPURANGA         812         824\n",
       "132                  JOVIANIA         732         744\n",
       "136                  LUZIANIA        1558        1564\n",
       "152                 MORRINHOS        1154        1303\n",
       "169                 NOVO GAMA         884         896\n",
       "187               PIRENOPOLIS         898         905\n",
       "191                 PONTALINA         781         807\n",
       "201                 RIO VERDE        2361        2404\n",
       "215    SANTO ANTONIO DE GOIAS         664         699\n",
       "221  SAO LUIS DE MONTES BELOS         923         939\n",
       "227            SENADOR CANEDO        1203        1419\n",
       "236                  TRINDADE        1213        1293\n",
       "241                    URUACU        1213        1286"
      ]
     },
     "execution_count": 22,
     "metadata": {},
     "output_type": "execute_result"
    }
   ],
   "source": [
    "go['Vendas2017'].gt(go['Vendas2016'])\n",
    "print(\"Cidades que cresceram GO\")\n",
    "a = go[go['Vendas2017'] > go['Vendas2016']]\n",
    "a[['Município_', 'Vendas2016','Vendas2017']]"
   ]
  },
  {
   "cell_type": "markdown",
   "metadata": {
    "hideCode": false,
    "hidePrompt": false
   },
   "source": [
    "### Cidades que decresceram\n",
    "#### RN"
   ]
  },
  {
   "cell_type": "code",
   "execution_count": 23,
   "metadata": {
    "hideCode": false,
    "hidePrompt": false
   },
   "outputs": [
    {
     "name": "stdout",
     "output_type": "stream",
     "text": [
      "Cidades que decresceram RN\n"
     ]
    },
    {
     "data": {
      "text/html": [
       "<div>\n",
       "<style scoped>\n",
       "    .dataframe tbody tr th:only-of-type {\n",
       "        vertical-align: middle;\n",
       "    }\n",
       "\n",
       "    .dataframe tbody tr th {\n",
       "        vertical-align: top;\n",
       "    }\n",
       "\n",
       "    .dataframe thead th {\n",
       "        text-align: right;\n",
       "    }\n",
       "</style>\n",
       "<table border=\"1\" class=\"dataframe\">\n",
       "  <thead>\n",
       "    <tr style=\"text-align: right;\">\n",
       "      <th></th>\n",
       "      <th>Município_</th>\n",
       "      <th>Vendas2016</th>\n",
       "      <th>Vendas2017</th>\n",
       "    </tr>\n",
       "  </thead>\n",
       "  <tbody>\n",
       "    <tr>\n",
       "      <th>0</th>\n",
       "      <td>VENHA-VER</td>\n",
       "      <td>$644.00</td>\n",
       "      <td>$586.00</td>\n",
       "    </tr>\n",
       "    <tr>\n",
       "      <th>1</th>\n",
       "      <td>SAO MIGUEL</td>\n",
       "      <td>$709.00</td>\n",
       "      <td>$670.00</td>\n",
       "    </tr>\n",
       "    <tr>\n",
       "      <th>2</th>\n",
       "      <td>CORONEL JOAO PESSOA</td>\n",
       "      <td>$738.00</td>\n",
       "      <td>$688.00</td>\n",
       "    </tr>\n",
       "    <tr>\n",
       "      <th>3</th>\n",
       "      <td>LUIS GOMES</td>\n",
       "      <td>$615.00</td>\n",
       "      <td>$544.00</td>\n",
       "    </tr>\n",
       "    <tr>\n",
       "      <th>4</th>\n",
       "      <td>PARANA</td>\n",
       "      <td>$611.00</td>\n",
       "      <td>$540.00</td>\n",
       "    </tr>\n",
       "    <tr>\n",
       "      <th>5</th>\n",
       "      <td>DOUTOR SEVERIANO</td>\n",
       "      <td>$609.00</td>\n",
       "      <td>$542.00</td>\n",
       "    </tr>\n",
       "    <tr>\n",
       "      <th>6</th>\n",
       "      <td>MAJOR SALES</td>\n",
       "      <td>$923.00</td>\n",
       "      <td>$894.00</td>\n",
       "    </tr>\n",
       "    <tr>\n",
       "      <th>7</th>\n",
       "      <td>RIACHO DE SANTANA</td>\n",
       "      <td>$601.00</td>\n",
       "      <td>$531.00</td>\n",
       "    </tr>\n",
       "    <tr>\n",
       "      <th>8</th>\n",
       "      <td>AGUA NOVA</td>\n",
       "      <td>$794.00</td>\n",
       "      <td>$753.00</td>\n",
       "    </tr>\n",
       "    <tr>\n",
       "      <th>9</th>\n",
       "      <td>ENCANTO</td>\n",
       "      <td>$614.00</td>\n",
       "      <td>$551.00</td>\n",
       "    </tr>\n",
       "    <tr>\n",
       "      <th>10</th>\n",
       "      <td>JOSE DA PENHA</td>\n",
       "      <td>$726.00</td>\n",
       "      <td>$653.00</td>\n",
       "    </tr>\n",
       "    <tr>\n",
       "      <th>11</th>\n",
       "      <td>TENENTE ANANIAS</td>\n",
       "      <td>$966.00</td>\n",
       "      <td>$959.00</td>\n",
       "    </tr>\n",
       "    <tr>\n",
       "      <th>12</th>\n",
       "      <td>RAFAEL FERNANDES</td>\n",
       "      <td>$713.00</td>\n",
       "      <td>$638.00</td>\n",
       "    </tr>\n",
       "    <tr>\n",
       "      <th>13</th>\n",
       "      <td>PAU DOS FERROS</td>\n",
       "      <td>$702.00</td>\n",
       "      <td>$675.00</td>\n",
       "    </tr>\n",
       "    <tr>\n",
       "      <th>14</th>\n",
       "      <td>MARCELINO VIEIRA</td>\n",
       "      <td>$618.00</td>\n",
       "      <td>$553.00</td>\n",
       "    </tr>\n",
       "    <tr>\n",
       "      <th>15</th>\n",
       "      <td>SAO FRANCISCO DO OESTE</td>\n",
       "      <td>$617.00</td>\n",
       "      <td>$543.00</td>\n",
       "    </tr>\n",
       "    <tr>\n",
       "      <th>17</th>\n",
       "      <td>PILOES</td>\n",
       "      <td>$608.00</td>\n",
       "      <td>$540.00</td>\n",
       "    </tr>\n",
       "    <tr>\n",
       "      <th>18</th>\n",
       "      <td>ALEXANDRIA</td>\n",
       "      <td>$718.00</td>\n",
       "      <td>$705.00</td>\n",
       "    </tr>\n",
       "    <tr>\n",
       "      <th>19</th>\n",
       "      <td>RODOLFO FERNANDES</td>\n",
       "      <td>$4,281.00</td>\n",
       "      <td>$4,135.00</td>\n",
       "    </tr>\n",
       "    <tr>\n",
       "      <th>20</th>\n",
       "      <td>TABOLEIRO GRANDE</td>\n",
       "      <td>$619.00</td>\n",
       "      <td>$550.00</td>\n",
       "    </tr>\n",
       "    <tr>\n",
       "      <th>21</th>\n",
       "      <td>PORTALEGRE</td>\n",
       "      <td>$643.00</td>\n",
       "      <td>$572.00</td>\n",
       "    </tr>\n",
       "    <tr>\n",
       "      <th>22</th>\n",
       "      <td>ITAU</td>\n",
       "      <td>$688.00</td>\n",
       "      <td>$682.00</td>\n",
       "    </tr>\n",
       "    <tr>\n",
       "      <th>24</th>\n",
       "      <td>VICOSA</td>\n",
       "      <td>$634.00</td>\n",
       "      <td>$568.00</td>\n",
       "    </tr>\n",
       "    <tr>\n",
       "      <th>25</th>\n",
       "      <td>RIACHO DA CRUZ</td>\n",
       "      <td>$642.00</td>\n",
       "      <td>$573.00</td>\n",
       "    </tr>\n",
       "    <tr>\n",
       "      <th>26</th>\n",
       "      <td>SEVERIANO MELO</td>\n",
       "      <td>$625.00</td>\n",
       "      <td>$568.00</td>\n",
       "    </tr>\n",
       "    <tr>\n",
       "      <th>27</th>\n",
       "      <td>ANTONIO MARTINS</td>\n",
       "      <td>$660.00</td>\n",
       "      <td>$598.00</td>\n",
       "    </tr>\n",
       "    <tr>\n",
       "      <th>28</th>\n",
       "      <td>MARTINS</td>\n",
       "      <td>$619.00</td>\n",
       "      <td>$551.00</td>\n",
       "    </tr>\n",
       "    <tr>\n",
       "      <th>29</th>\n",
       "      <td>FRUTUOSO GOMES</td>\n",
       "      <td>$606.00</td>\n",
       "      <td>$534.00</td>\n",
       "    </tr>\n",
       "    <tr>\n",
       "      <th>30</th>\n",
       "      <td>JOAO DIAS</td>\n",
       "      <td>$616.00</td>\n",
       "      <td>$544.00</td>\n",
       "    </tr>\n",
       "    <tr>\n",
       "      <th>31</th>\n",
       "      <td>LUCRECIA</td>\n",
       "      <td>$701.00</td>\n",
       "      <td>$646.00</td>\n",
       "    </tr>\n",
       "    <tr>\n",
       "      <th>...</th>\n",
       "      <td>...</td>\n",
       "      <td>...</td>\n",
       "      <td>...</td>\n",
       "    </tr>\n",
       "    <tr>\n",
       "      <th>131</th>\n",
       "      <td>SAO PAULO DO POTENGI</td>\n",
       "      <td>$623.00</td>\n",
       "      <td>$547.00</td>\n",
       "    </tr>\n",
       "    <tr>\n",
       "      <th>133</th>\n",
       "      <td>RIO DO FOGO</td>\n",
       "      <td>$828.00</td>\n",
       "      <td>$773.00</td>\n",
       "    </tr>\n",
       "    <tr>\n",
       "      <th>134</th>\n",
       "      <td>SENADOR ELOI DE SOUZA</td>\n",
       "      <td>$614.00</td>\n",
       "      <td>$546.00</td>\n",
       "    </tr>\n",
       "    <tr>\n",
       "      <th>135</th>\n",
       "      <td>ESPIRITO SANTO</td>\n",
       "      <td>$650.00</td>\n",
       "      <td>$591.00</td>\n",
       "    </tr>\n",
       "    <tr>\n",
       "      <th>137</th>\n",
       "      <td>PASSAGEM</td>\n",
       "      <td>$600.00</td>\n",
       "      <td>$531.00</td>\n",
       "    </tr>\n",
       "    <tr>\n",
       "      <th>138</th>\n",
       "      <td>POCO BRANCO</td>\n",
       "      <td>$610.00</td>\n",
       "      <td>$538.00</td>\n",
       "    </tr>\n",
       "    <tr>\n",
       "      <th>139</th>\n",
       "      <td>SANTA MARIA</td>\n",
       "      <td>$680.00</td>\n",
       "      <td>$617.00</td>\n",
       "    </tr>\n",
       "    <tr>\n",
       "      <th>140</th>\n",
       "      <td>PUREZA</td>\n",
       "      <td>$675.00</td>\n",
       "      <td>$617.00</td>\n",
       "    </tr>\n",
       "    <tr>\n",
       "      <th>141</th>\n",
       "      <td>JUNDIA</td>\n",
       "      <td>$616.00</td>\n",
       "      <td>$550.00</td>\n",
       "    </tr>\n",
       "    <tr>\n",
       "      <th>142</th>\n",
       "      <td>GOIANINHA</td>\n",
       "      <td>$647.00</td>\n",
       "      <td>$580.00</td>\n",
       "    </tr>\n",
       "    <tr>\n",
       "      <th>143</th>\n",
       "      <td>LAGOA SALGADA</td>\n",
       "      <td>$660.00</td>\n",
       "      <td>$617.00</td>\n",
       "    </tr>\n",
       "    <tr>\n",
       "      <th>144</th>\n",
       "      <td>SAO PEDRO</td>\n",
       "      <td>$606.00</td>\n",
       "      <td>$535.00</td>\n",
       "    </tr>\n",
       "    <tr>\n",
       "      <th>145</th>\n",
       "      <td>TAIPU</td>\n",
       "      <td>$859.00</td>\n",
       "      <td>$803.00</td>\n",
       "    </tr>\n",
       "    <tr>\n",
       "      <th>146</th>\n",
       "      <td>BREJINHO</td>\n",
       "      <td>$1,202.00</td>\n",
       "      <td>$1,198.00</td>\n",
       "    </tr>\n",
       "    <tr>\n",
       "      <th>147</th>\n",
       "      <td>LAGOA DE PEDRAS</td>\n",
       "      <td>$608.00</td>\n",
       "      <td>$543.00</td>\n",
       "    </tr>\n",
       "    <tr>\n",
       "      <th>148</th>\n",
       "      <td>BOM JESUS</td>\n",
       "      <td>$624.00</td>\n",
       "      <td>$561.00</td>\n",
       "    </tr>\n",
       "    <tr>\n",
       "      <th>149</th>\n",
       "      <td>TIBAU DO SUL</td>\n",
       "      <td>$708.00</td>\n",
       "      <td>$645.00</td>\n",
       "    </tr>\n",
       "    <tr>\n",
       "      <th>150</th>\n",
       "      <td>AREZ</td>\n",
       "      <td>$692.00</td>\n",
       "      <td>$636.00</td>\n",
       "    </tr>\n",
       "    <tr>\n",
       "      <th>151</th>\n",
       "      <td>SENADOR GEORGINO AVELINO</td>\n",
       "      <td>$615.00</td>\n",
       "      <td>$553.00</td>\n",
       "    </tr>\n",
       "    <tr>\n",
       "      <th>153</th>\n",
       "      <td>VERA CRUZ</td>\n",
       "      <td>$622.00</td>\n",
       "      <td>$563.00</td>\n",
       "    </tr>\n",
       "    <tr>\n",
       "      <th>154</th>\n",
       "      <td>MONTE ALEGRE</td>\n",
       "      <td>$626.00</td>\n",
       "      <td>$578.00</td>\n",
       "    </tr>\n",
       "    <tr>\n",
       "      <th>155</th>\n",
       "      <td>NISIA FLORESTA</td>\n",
       "      <td>$720.00</td>\n",
       "      <td>$656.00</td>\n",
       "    </tr>\n",
       "    <tr>\n",
       "      <th>156</th>\n",
       "      <td>MAXARANGUAPE</td>\n",
       "      <td>$638.00</td>\n",
       "      <td>$576.00</td>\n",
       "    </tr>\n",
       "    <tr>\n",
       "      <th>157</th>\n",
       "      <td>SAO JOSE DE MIPIBU</td>\n",
       "      <td>$644.00</td>\n",
       "      <td>$575.00</td>\n",
       "    </tr>\n",
       "    <tr>\n",
       "      <th>158</th>\n",
       "      <td>CEARA-MIRIM</td>\n",
       "      <td>$664.00</td>\n",
       "      <td>$609.00</td>\n",
       "    </tr>\n",
       "    <tr>\n",
       "      <th>159</th>\n",
       "      <td>MACAIBA</td>\n",
       "      <td>$784.00</td>\n",
       "      <td>$753.00</td>\n",
       "    </tr>\n",
       "    <tr>\n",
       "      <th>160</th>\n",
       "      <td>EXTREMOZ</td>\n",
       "      <td>$867.00</td>\n",
       "      <td>$813.00</td>\n",
       "    </tr>\n",
       "    <tr>\n",
       "      <th>161</th>\n",
       "      <td>PARNAMIRIM</td>\n",
       "      <td>$777.00</td>\n",
       "      <td>$733.00</td>\n",
       "    </tr>\n",
       "    <tr>\n",
       "      <th>162</th>\n",
       "      <td>SAO GONCALO DO AMARANTE</td>\n",
       "      <td>$639.00</td>\n",
       "      <td>$576.00</td>\n",
       "    </tr>\n",
       "    <tr>\n",
       "      <th>163</th>\n",
       "      <td>NATAL</td>\n",
       "      <td>$1,466.00</td>\n",
       "      <td>$1,418.00</td>\n",
       "    </tr>\n",
       "  </tbody>\n",
       "</table>\n",
       "<p>150 rows × 3 columns</p>\n",
       "</div>"
      ],
      "text/plain": [
       "                   Município_  Vendas2016  Vendas2017\n",
       "0                   VENHA-VER     $644.00     $586.00\n",
       "1                  SAO MIGUEL     $709.00     $670.00\n",
       "2         CORONEL JOAO PESSOA     $738.00     $688.00\n",
       "3                  LUIS GOMES     $615.00     $544.00\n",
       "4                      PARANA     $611.00     $540.00\n",
       "5            DOUTOR SEVERIANO     $609.00     $542.00\n",
       "6                 MAJOR SALES     $923.00     $894.00\n",
       "7           RIACHO DE SANTANA     $601.00     $531.00\n",
       "8                   AGUA NOVA     $794.00     $753.00\n",
       "9                     ENCANTO     $614.00     $551.00\n",
       "10              JOSE DA PENHA     $726.00     $653.00\n",
       "11            TENENTE ANANIAS     $966.00     $959.00\n",
       "12           RAFAEL FERNANDES     $713.00     $638.00\n",
       "13             PAU DOS FERROS     $702.00     $675.00\n",
       "14           MARCELINO VIEIRA     $618.00     $553.00\n",
       "15     SAO FRANCISCO DO OESTE     $617.00     $543.00\n",
       "17                     PILOES     $608.00     $540.00\n",
       "18                 ALEXANDRIA     $718.00     $705.00\n",
       "19          RODOLFO FERNANDES   $4,281.00   $4,135.00\n",
       "20           TABOLEIRO GRANDE     $619.00     $550.00\n",
       "21                 PORTALEGRE     $643.00     $572.00\n",
       "22                       ITAU     $688.00     $682.00\n",
       "24                     VICOSA     $634.00     $568.00\n",
       "25             RIACHO DA CRUZ     $642.00     $573.00\n",
       "26             SEVERIANO MELO     $625.00     $568.00\n",
       "27            ANTONIO MARTINS     $660.00     $598.00\n",
       "28                    MARTINS     $619.00     $551.00\n",
       "29             FRUTUOSO GOMES     $606.00     $534.00\n",
       "30                  JOAO DIAS     $616.00     $544.00\n",
       "31                   LUCRECIA     $701.00     $646.00\n",
       "..                        ...         ...         ...\n",
       "131      SAO PAULO DO POTENGI     $623.00     $547.00\n",
       "133               RIO DO FOGO     $828.00     $773.00\n",
       "134     SENADOR ELOI DE SOUZA     $614.00     $546.00\n",
       "135            ESPIRITO SANTO     $650.00     $591.00\n",
       "137                  PASSAGEM     $600.00     $531.00\n",
       "138               POCO BRANCO     $610.00     $538.00\n",
       "139               SANTA MARIA     $680.00     $617.00\n",
       "140                    PUREZA     $675.00     $617.00\n",
       "141                    JUNDIA     $616.00     $550.00\n",
       "142                 GOIANINHA     $647.00     $580.00\n",
       "143             LAGOA SALGADA     $660.00     $617.00\n",
       "144                 SAO PEDRO     $606.00     $535.00\n",
       "145                     TAIPU     $859.00     $803.00\n",
       "146                  BREJINHO   $1,202.00   $1,198.00\n",
       "147           LAGOA DE PEDRAS     $608.00     $543.00\n",
       "148                 BOM JESUS     $624.00     $561.00\n",
       "149              TIBAU DO SUL     $708.00     $645.00\n",
       "150                      AREZ     $692.00     $636.00\n",
       "151  SENADOR GEORGINO AVELINO     $615.00     $553.00\n",
       "153                 VERA CRUZ     $622.00     $563.00\n",
       "154              MONTE ALEGRE     $626.00     $578.00\n",
       "155            NISIA FLORESTA     $720.00     $656.00\n",
       "156              MAXARANGUAPE     $638.00     $576.00\n",
       "157        SAO JOSE DE MIPIBU     $644.00     $575.00\n",
       "158               CEARA-MIRIM     $664.00     $609.00\n",
       "159                   MACAIBA     $784.00     $753.00\n",
       "160                  EXTREMOZ     $867.00     $813.00\n",
       "161                PARNAMIRIM     $777.00     $733.00\n",
       "162   SAO GONCALO DO AMARANTE     $639.00     $576.00\n",
       "163                     NATAL   $1,466.00   $1,418.00\n",
       "\n",
       "[150 rows x 3 columns]"
      ]
     },
     "execution_count": 23,
     "metadata": {},
     "output_type": "execute_result"
    }
   ],
   "source": [
    "print(\"Cidades que decresceram RN\")\n",
    "a = rn[rn['Vendas2017'] < rn['Vendas2016']]\n",
    "a[['Município_', 'Vendas2016','Vendas2017']]"
   ]
  },
  {
   "cell_type": "markdown",
   "metadata": {
    "hideCode": false,
    "hidePrompt": false
   },
   "source": [
    "#### GO"
   ]
  },
  {
   "cell_type": "code",
   "execution_count": 24,
   "metadata": {
    "hideCode": false,
    "hidePrompt": false
   },
   "outputs": [
    {
     "name": "stdout",
     "output_type": "stream",
     "text": [
      "Cidades que decresceram GO\n"
     ]
    },
    {
     "data": {
      "text/html": [
       "<div>\n",
       "<style scoped>\n",
       "    .dataframe tbody tr th:only-of-type {\n",
       "        vertical-align: middle;\n",
       "    }\n",
       "\n",
       "    .dataframe tbody tr th {\n",
       "        vertical-align: top;\n",
       "    }\n",
       "\n",
       "    .dataframe thead th {\n",
       "        text-align: right;\n",
       "    }\n",
       "</style>\n",
       "<table border=\"1\" class=\"dataframe\">\n",
       "  <thead>\n",
       "    <tr style=\"text-align: right;\">\n",
       "      <th></th>\n",
       "      <th>Município_</th>\n",
       "      <th>Vendas2016</th>\n",
       "      <th>Vendas2017</th>\n",
       "    </tr>\n",
       "  </thead>\n",
       "  <tbody>\n",
       "    <tr>\n",
       "      <th>0</th>\n",
       "      <td>ABADIA DE GOIAS</td>\n",
       "      <td>652</td>\n",
       "      <td>620</td>\n",
       "    </tr>\n",
       "    <tr>\n",
       "      <th>1</th>\n",
       "      <td>ABADIANIA</td>\n",
       "      <td>705</td>\n",
       "      <td>678</td>\n",
       "    </tr>\n",
       "    <tr>\n",
       "      <th>2</th>\n",
       "      <td>ACREUNA</td>\n",
       "      <td>754</td>\n",
       "      <td>714</td>\n",
       "    </tr>\n",
       "    <tr>\n",
       "      <th>3</th>\n",
       "      <td>ADELANDIA</td>\n",
       "      <td>612</td>\n",
       "      <td>536</td>\n",
       "    </tr>\n",
       "    <tr>\n",
       "      <th>4</th>\n",
       "      <td>AGUA FRIA DE GOIAS</td>\n",
       "      <td>615</td>\n",
       "      <td>542</td>\n",
       "    </tr>\n",
       "    <tr>\n",
       "      <th>5</th>\n",
       "      <td>AGUA LIMPA</td>\n",
       "      <td>608</td>\n",
       "      <td>539</td>\n",
       "    </tr>\n",
       "    <tr>\n",
       "      <th>6</th>\n",
       "      <td>AGUAS LINDAS DE GOIAS</td>\n",
       "      <td>993</td>\n",
       "      <td>958</td>\n",
       "    </tr>\n",
       "    <tr>\n",
       "      <th>7</th>\n",
       "      <td>AGUAS LINDAS DE GOIAS</td>\n",
       "      <td>599</td>\n",
       "      <td>529</td>\n",
       "    </tr>\n",
       "    <tr>\n",
       "      <th>8</th>\n",
       "      <td>ALEXANIA</td>\n",
       "      <td>824</td>\n",
       "      <td>819</td>\n",
       "    </tr>\n",
       "    <tr>\n",
       "      <th>9</th>\n",
       "      <td>ALOANDIA</td>\n",
       "      <td>612</td>\n",
       "      <td>553</td>\n",
       "    </tr>\n",
       "    <tr>\n",
       "      <th>10</th>\n",
       "      <td>ALTO HORIZONTE</td>\n",
       "      <td>733</td>\n",
       "      <td>661</td>\n",
       "    </tr>\n",
       "    <tr>\n",
       "      <th>11</th>\n",
       "      <td>ALTO PARAISO DE GOIAS</td>\n",
       "      <td>993</td>\n",
       "      <td>984</td>\n",
       "    </tr>\n",
       "    <tr>\n",
       "      <th>12</th>\n",
       "      <td>ALVORADA DO NORTE</td>\n",
       "      <td>731</td>\n",
       "      <td>650</td>\n",
       "    </tr>\n",
       "    <tr>\n",
       "      <th>13</th>\n",
       "      <td>AMARALINA</td>\n",
       "      <td>611</td>\n",
       "      <td>541</td>\n",
       "    </tr>\n",
       "    <tr>\n",
       "      <th>14</th>\n",
       "      <td>AMERICANO DO BRASIL</td>\n",
       "      <td>621</td>\n",
       "      <td>553</td>\n",
       "    </tr>\n",
       "    <tr>\n",
       "      <th>15</th>\n",
       "      <td>AMORINOPOLIS</td>\n",
       "      <td>617</td>\n",
       "      <td>545</td>\n",
       "    </tr>\n",
       "    <tr>\n",
       "      <th>17</th>\n",
       "      <td>ANHANGUERA</td>\n",
       "      <td>605</td>\n",
       "      <td>537</td>\n",
       "    </tr>\n",
       "    <tr>\n",
       "      <th>18</th>\n",
       "      <td>ANICUNS</td>\n",
       "      <td>742</td>\n",
       "      <td>731</td>\n",
       "    </tr>\n",
       "    <tr>\n",
       "      <th>20</th>\n",
       "      <td>APARECIDA DO RIO DOCE</td>\n",
       "      <td>624</td>\n",
       "      <td>558</td>\n",
       "    </tr>\n",
       "    <tr>\n",
       "      <th>21</th>\n",
       "      <td>APORE</td>\n",
       "      <td>648</td>\n",
       "      <td>573</td>\n",
       "    </tr>\n",
       "    <tr>\n",
       "      <th>22</th>\n",
       "      <td>ARACU</td>\n",
       "      <td>690</td>\n",
       "      <td>681</td>\n",
       "    </tr>\n",
       "    <tr>\n",
       "      <th>24</th>\n",
       "      <td>ARAGOIANIA</td>\n",
       "      <td>643</td>\n",
       "      <td>595</td>\n",
       "    </tr>\n",
       "    <tr>\n",
       "      <th>25</th>\n",
       "      <td>ARAGUAPAZ</td>\n",
       "      <td>648</td>\n",
       "      <td>579</td>\n",
       "    </tr>\n",
       "    <tr>\n",
       "      <th>26</th>\n",
       "      <td>ARENOPOLIS</td>\n",
       "      <td>631</td>\n",
       "      <td>571</td>\n",
       "    </tr>\n",
       "    <tr>\n",
       "      <th>27</th>\n",
       "      <td>ARUANA</td>\n",
       "      <td>670</td>\n",
       "      <td>608</td>\n",
       "    </tr>\n",
       "    <tr>\n",
       "      <th>28</th>\n",
       "      <td>AURILANDIA</td>\n",
       "      <td>619</td>\n",
       "      <td>549</td>\n",
       "    </tr>\n",
       "    <tr>\n",
       "      <th>29</th>\n",
       "      <td>AVELINOPOLIS</td>\n",
       "      <td>605</td>\n",
       "      <td>533</td>\n",
       "    </tr>\n",
       "    <tr>\n",
       "      <th>30</th>\n",
       "      <td>BALIZA</td>\n",
       "      <td>620</td>\n",
       "      <td>548</td>\n",
       "    </tr>\n",
       "    <tr>\n",
       "      <th>31</th>\n",
       "      <td>BARRO ALTO</td>\n",
       "      <td>713</td>\n",
       "      <td>657</td>\n",
       "    </tr>\n",
       "    <tr>\n",
       "      <th>32</th>\n",
       "      <td>BELA VISTA DE GOIAS</td>\n",
       "      <td>1066</td>\n",
       "      <td>891</td>\n",
       "    </tr>\n",
       "    <tr>\n",
       "      <th>...</th>\n",
       "      <td>...</td>\n",
       "      <td>...</td>\n",
       "      <td>...</td>\n",
       "    </tr>\n",
       "    <tr>\n",
       "      <th>217</th>\n",
       "      <td>SAO DOMINGOS</td>\n",
       "      <td>660</td>\n",
       "      <td>604</td>\n",
       "    </tr>\n",
       "    <tr>\n",
       "      <th>218</th>\n",
       "      <td>SAO FRANCISCO DE GOIAS</td>\n",
       "      <td>637</td>\n",
       "      <td>569</td>\n",
       "    </tr>\n",
       "    <tr>\n",
       "      <th>219</th>\n",
       "      <td>SAO JOAO D ALIANCA</td>\n",
       "      <td>695</td>\n",
       "      <td>633</td>\n",
       "    </tr>\n",
       "    <tr>\n",
       "      <th>220</th>\n",
       "      <td>SAO JOAO DA PARAUNA</td>\n",
       "      <td>608</td>\n",
       "      <td>535</td>\n",
       "    </tr>\n",
       "    <tr>\n",
       "      <th>222</th>\n",
       "      <td>SAO LUIZ DO NORTE</td>\n",
       "      <td>622</td>\n",
       "      <td>558</td>\n",
       "    </tr>\n",
       "    <tr>\n",
       "      <th>223</th>\n",
       "      <td>SAO MIGUEL DO ARAGUAIA</td>\n",
       "      <td>834</td>\n",
       "      <td>799</td>\n",
       "    </tr>\n",
       "    <tr>\n",
       "      <th>224</th>\n",
       "      <td>SAO MIGUEL DO PASSA QUATR</td>\n",
       "      <td>610</td>\n",
       "      <td>543</td>\n",
       "    </tr>\n",
       "    <tr>\n",
       "      <th>225</th>\n",
       "      <td>SAO PATRICIO</td>\n",
       "      <td>607</td>\n",
       "      <td>542</td>\n",
       "    </tr>\n",
       "    <tr>\n",
       "      <th>226</th>\n",
       "      <td>SAO SIMAO</td>\n",
       "      <td>818</td>\n",
       "      <td>762</td>\n",
       "    </tr>\n",
       "    <tr>\n",
       "      <th>228</th>\n",
       "      <td>SERRANOPOLIS</td>\n",
       "      <td>683</td>\n",
       "      <td>652</td>\n",
       "    </tr>\n",
       "    <tr>\n",
       "      <th>229</th>\n",
       "      <td>SILVANIA</td>\n",
       "      <td>745</td>\n",
       "      <td>708</td>\n",
       "    </tr>\n",
       "    <tr>\n",
       "      <th>230</th>\n",
       "      <td>SIMOLANDIA</td>\n",
       "      <td>643</td>\n",
       "      <td>578</td>\n",
       "    </tr>\n",
       "    <tr>\n",
       "      <th>231</th>\n",
       "      <td>SITIO D ABADIA</td>\n",
       "      <td>607</td>\n",
       "      <td>537</td>\n",
       "    </tr>\n",
       "    <tr>\n",
       "      <th>232</th>\n",
       "      <td>TAQUARAL DE GOIAS</td>\n",
       "      <td>776</td>\n",
       "      <td>741</td>\n",
       "    </tr>\n",
       "    <tr>\n",
       "      <th>233</th>\n",
       "      <td>TERESINA DE GOIAS</td>\n",
       "      <td>615</td>\n",
       "      <td>541</td>\n",
       "    </tr>\n",
       "    <tr>\n",
       "      <th>234</th>\n",
       "      <td>TEREZOPOLIS DE GOIAS</td>\n",
       "      <td>652</td>\n",
       "      <td>615</td>\n",
       "    </tr>\n",
       "    <tr>\n",
       "      <th>235</th>\n",
       "      <td>TRES RANCHOS</td>\n",
       "      <td>634</td>\n",
       "      <td>561</td>\n",
       "    </tr>\n",
       "    <tr>\n",
       "      <th>237</th>\n",
       "      <td>TROMBAS</td>\n",
       "      <td>622</td>\n",
       "      <td>549</td>\n",
       "    </tr>\n",
       "    <tr>\n",
       "      <th>238</th>\n",
       "      <td>TURVANIA</td>\n",
       "      <td>637</td>\n",
       "      <td>572</td>\n",
       "    </tr>\n",
       "    <tr>\n",
       "      <th>239</th>\n",
       "      <td>TURVELANDIA</td>\n",
       "      <td>625</td>\n",
       "      <td>558</td>\n",
       "    </tr>\n",
       "    <tr>\n",
       "      <th>240</th>\n",
       "      <td>UIRAPURU</td>\n",
       "      <td>609</td>\n",
       "      <td>541</td>\n",
       "    </tr>\n",
       "    <tr>\n",
       "      <th>242</th>\n",
       "      <td>URUANA</td>\n",
       "      <td>693</td>\n",
       "      <td>646</td>\n",
       "    </tr>\n",
       "    <tr>\n",
       "      <th>243</th>\n",
       "      <td>URUTAI</td>\n",
       "      <td>635</td>\n",
       "      <td>566</td>\n",
       "    </tr>\n",
       "    <tr>\n",
       "      <th>244</th>\n",
       "      <td>VALPARAISO DE GOIAS</td>\n",
       "      <td>1337</td>\n",
       "      <td>1266</td>\n",
       "    </tr>\n",
       "    <tr>\n",
       "      <th>245</th>\n",
       "      <td>VALPARAISO DE GOIAS</td>\n",
       "      <td>599</td>\n",
       "      <td>529</td>\n",
       "    </tr>\n",
       "    <tr>\n",
       "      <th>246</th>\n",
       "      <td>VARJAO</td>\n",
       "      <td>614</td>\n",
       "      <td>546</td>\n",
       "    </tr>\n",
       "    <tr>\n",
       "      <th>247</th>\n",
       "      <td>VIANOPOLIS</td>\n",
       "      <td>779</td>\n",
       "      <td>725</td>\n",
       "    </tr>\n",
       "    <tr>\n",
       "      <th>248</th>\n",
       "      <td>VICENTINOPOLIS</td>\n",
       "      <td>682</td>\n",
       "      <td>615</td>\n",
       "    </tr>\n",
       "    <tr>\n",
       "      <th>249</th>\n",
       "      <td>VILA BOA</td>\n",
       "      <td>618</td>\n",
       "      <td>543</td>\n",
       "    </tr>\n",
       "    <tr>\n",
       "      <th>250</th>\n",
       "      <td>VILA PROPICIO</td>\n",
       "      <td>614</td>\n",
       "      <td>546</td>\n",
       "    </tr>\n",
       "  </tbody>\n",
       "</table>\n",
       "<p>225 rows × 3 columns</p>\n",
       "</div>"
      ],
      "text/plain": [
       "                    Município_  Vendas2016  Vendas2017\n",
       "0              ABADIA DE GOIAS         652         620\n",
       "1                    ABADIANIA         705         678\n",
       "2                      ACREUNA         754         714\n",
       "3                    ADELANDIA         612         536\n",
       "4           AGUA FRIA DE GOIAS         615         542\n",
       "5                   AGUA LIMPA         608         539\n",
       "6        AGUAS LINDAS DE GOIAS         993         958\n",
       "7        AGUAS LINDAS DE GOIAS         599         529\n",
       "8                     ALEXANIA         824         819\n",
       "9                     ALOANDIA         612         553\n",
       "10              ALTO HORIZONTE         733         661\n",
       "11       ALTO PARAISO DE GOIAS         993         984\n",
       "12           ALVORADA DO NORTE         731         650\n",
       "13                   AMARALINA         611         541\n",
       "14         AMERICANO DO BRASIL         621         553\n",
       "15                AMORINOPOLIS         617         545\n",
       "17                  ANHANGUERA         605         537\n",
       "18                     ANICUNS         742         731\n",
       "20       APARECIDA DO RIO DOCE         624         558\n",
       "21                       APORE         648         573\n",
       "22                       ARACU         690         681\n",
       "24                  ARAGOIANIA         643         595\n",
       "25                   ARAGUAPAZ         648         579\n",
       "26                  ARENOPOLIS         631         571\n",
       "27                      ARUANA         670         608\n",
       "28                  AURILANDIA         619         549\n",
       "29                AVELINOPOLIS         605         533\n",
       "30                      BALIZA         620         548\n",
       "31                  BARRO ALTO         713         657\n",
       "32         BELA VISTA DE GOIAS        1066         891\n",
       "..                         ...         ...         ...\n",
       "217               SAO DOMINGOS         660         604\n",
       "218     SAO FRANCISCO DE GOIAS         637         569\n",
       "219         SAO JOAO D ALIANCA         695         633\n",
       "220        SAO JOAO DA PARAUNA         608         535\n",
       "222          SAO LUIZ DO NORTE         622         558\n",
       "223     SAO MIGUEL DO ARAGUAIA         834         799\n",
       "224  SAO MIGUEL DO PASSA QUATR         610         543\n",
       "225               SAO PATRICIO         607         542\n",
       "226                  SAO SIMAO         818         762\n",
       "228               SERRANOPOLIS         683         652\n",
       "229                   SILVANIA         745         708\n",
       "230                 SIMOLANDIA         643         578\n",
       "231             SITIO D ABADIA         607         537\n",
       "232          TAQUARAL DE GOIAS         776         741\n",
       "233          TERESINA DE GOIAS         615         541\n",
       "234       TEREZOPOLIS DE GOIAS         652         615\n",
       "235               TRES RANCHOS         634         561\n",
       "237                    TROMBAS         622         549\n",
       "238                   TURVANIA         637         572\n",
       "239                TURVELANDIA         625         558\n",
       "240                   UIRAPURU         609         541\n",
       "242                     URUANA         693         646\n",
       "243                     URUTAI         635         566\n",
       "244        VALPARAISO DE GOIAS        1337        1266\n",
       "245        VALPARAISO DE GOIAS         599         529\n",
       "246                     VARJAO         614         546\n",
       "247                 VIANOPOLIS         779         725\n",
       "248             VICENTINOPOLIS         682         615\n",
       "249                   VILA BOA         618         543\n",
       "250              VILA PROPICIO         614         546\n",
       "\n",
       "[225 rows x 3 columns]"
      ]
     },
     "execution_count": 24,
     "metadata": {},
     "output_type": "execute_result"
    }
   ],
   "source": [
    "print(\"Cidades que decresceram GO\")\n",
    "a = go[go['Vendas2017'] < go['Vendas2016']]\n",
    "a[['Município_', 'Vendas2016','Vendas2017']]"
   ]
  },
  {
   "cell_type": "markdown",
   "metadata": {
    "hideCode": false,
    "hidePrompt": false
   },
   "source": [
    "## Existe relação entre a distancia da capital e o número de vendas?"
   ]
  },
  {
   "cell_type": "markdown",
   "metadata": {
    "hideCode": false,
    "hidePrompt": false
   },
   "source": [
    "Correlação entre distancia da capital e as vendas em 2016 e 2017 RN:"
   ]
  },
  {
   "cell_type": "code",
   "execution_count": 25,
   "metadata": {
    "hideCode": false,
    "hidePrompt": false
   },
   "outputs": [
    {
     "name": "stdout",
     "output_type": "stream",
     "text": [
      "2016 correlação: -0.1287800168532888\n",
      "2017 correlação: -0.13268054289867795\n"
     ]
    }
   ],
   "source": [
    "print(f\"2016 correlação: {rn['Distância da Capital'].corr(rn['Produto A em 2016'])}\")\n",
    "print(f\"2017 correlação: {rn['Distância da Capital'].corr(rn['Produto A em 2017'])}\")\n"
   ]
  },
  {
   "cell_type": "code",
   "execution_count": 26,
   "metadata": {
    "hideCode": false,
    "hidePrompt": false
   },
   "outputs": [
    {
     "data": {
      "image/png": "[encoded data removed]",
      "text/plain": [
       "<Figure size 360x360 with 1 Axes>"
      ]
     },
     "metadata": {
      "needs_background": "light"
     },
     "output_type": "display_data"
    }
   ],
   "source": [
    "distancia = rn['Distância da Capital']\n",
    "produto = rn['Vendas2016']\n",
    "plt.figure(figsize=(5,5))\n",
    "plt.scatter(distancia, produto)\n",
    "plt.xlabel(u\"Distancia da capital\")\n",
    "plt.ylabel(u\"Vendas Produto\")\n",
    "plt.title('Grafico de disperção Rio Grande do Norte')\n",
    "plt.show()\n"
   ]
  },
  {
   "cell_type": "markdown",
   "metadata": {
    "hideCode": false,
    "hidePrompt": false
   },
   "source": [
    "Correlação entre distancia da capital e as vendas em 2016 e 2017 GO:"
   ]
  },
  {
   "cell_type": "code",
   "execution_count": 27,
   "metadata": {
    "hideCode": false,
    "hidePrompt": false
   },
   "outputs": [
    {
     "name": "stdout",
     "output_type": "stream",
     "text": [
      "2016 correlação: -0.13635355318665177\n",
      "2017 correlação: -0.18673387617751502\n"
     ]
    }
   ],
   "source": [
    "print(f\"2016 correlação: {go['Distância da Capital'].corr(go['Produto A em 2016'])}\")\n",
    "print(f\"2017 correlação: {go['Distância da Capital'].corr(go['Produto A em 2017'])}\")"
   ]
  },
  {
   "cell_type": "code",
   "execution_count": 28,
   "metadata": {
    "hideCode": false,
    "hidePrompt": false
   },
   "outputs": [
    {
     "data": {
      "image/png": "[encoded data removed]",
      "text/plain": [
       "<Figure size 360x360 with 1 Axes>"
      ]
     },
     "metadata": {
      "needs_background": "light"
     },
     "output_type": "display_data"
    }
   ],
   "source": [
    "distancia = go['Distância da Capital']\n",
    "produto = go['Vendas2016']\n",
    "plt.figure(figsize=(5,5))\n",
    "plt.scatter(distancia, produto)\n",
    "plt.xlabel(u\"Distancia da capital\")\n",
    "plt.ylabel(u\"Vendas Produto\")\n",
    "plt.title('Grafico de disperção Goiás')\n",
    "plt.show()\n"
   ]
  },
  {
   "cell_type": "markdown",
   "metadata": {
    "hideCode": false,
    "hidePrompt": false
   },
   "source": [
    "Nenhum dos estados apresentou uma correlação nas variáveis analisadas."
   ]
  },
  {
   "cell_type": "markdown",
   "metadata": {
    "hideCode": false,
    "hidePrompt": false
   },
   "source": [
    "## Qual a média, moda, mediana, 1º quartil, 3º quartil, 7º decil, 84º Percentil da variável \"distância da capital\""
   ]
  },
  {
   "cell_type": "code",
   "execution_count": 29,
   "metadata": {
    "hideCode": false,
    "hidePrompt": false
   },
   "outputs": [
    {
     "name": "stdout",
     "output_type": "stream",
     "text": [
      "Distância da capital GO\n",
      "Média 191.6175298804781\n",
      "Mediana 173.0\n",
      "1º Quartil 103.5\n",
      "3º Quartil 268.0\n",
      "7º Decil 242.0\n",
      "84º Percentil 326.0\n"
     ]
    }
   ],
   "source": [
    "print(\"Distância da capital GO\")\n",
    "print(f\"Média {go['Distância da Capital'].mean()}\")\n",
    "print(f\"Mediana {go['Distância da Capital'].median()}\")\n",
    "print(f\"1º Quartil {go['Distância da Capital'].quantile([0.25])[0.25]}\")\n",
    "print(f\"3º Quartil {go['Distância da Capital'].quantile([0.75])[0.75]}\")\n",
    "print(f\"7º Decil {go['Distância da Capital'].quantile([0.7])[0.7]}\")\n",
    "print(f\"84º Percentil {go['Distância da Capital'].quantile([0.84])[0.84]}\")\n"
   ]
  },
  {
   "cell_type": "code",
   "execution_count": 30,
   "metadata": {
    "hideCode": false,
    "hidePrompt": false
   },
   "outputs": [
    {
     "name": "stdout",
     "output_type": "stream",
     "text": [
      "Distância da capital RN\n",
      "Média 168.85365853658536\n",
      "Mediana 154.0\n",
      "1º Quartil 71.75\n",
      "3º Quartil 259.25\n",
      "7º Decil 240.29999999999998\n",
      "84º Percentil 303.84\n"
     ]
    }
   ],
   "source": [
    "print(\"Distância da capital RN\")\n",
    "print(f\"Média {rn['Distância da Capital'].mean()}\")\n",
    "print(f\"Mediana {rn['Distância da Capital'].median()}\")\n",
    "print(f\"1º Quartil {rn['Distância da Capital'].quantile([0.25])[0.25]}\")\n",
    "print(f\"3º Quartil {rn['Distância da Capital'].quantile([0.75])[0.75]}\")\n",
    "print(f\"7º Decil {rn['Distância da Capital'].quantile([0.7])[0.7]}\")\n",
    "print(f\"84º Percentil {rn['Distância da Capital'].quantile([0.84])[0.84]}\")"
   ]
  },
  {
   "cell_type": "markdown",
   "metadata": {
    "hideCode": false,
    "hidePrompt": false
   },
   "source": [
    "## Quais são os três maiores/menores municípios em termos de PIB per capita?"
   ]
  },
  {
   "cell_type": "markdown",
   "metadata": {
    "hideCode": false,
    "hidePrompt": false
   },
   "source": [
    "### Cidades com maiores PIB per capita GO"
   ]
  },
  {
   "cell_type": "code",
   "execution_count": 31,
   "metadata": {
    "hideCode": false,
    "hidePrompt": false
   },
   "outputs": [
    {
     "data": {
      "text/html": [
       "<div>\n",
       "<style scoped>\n",
       "    .dataframe tbody tr th:only-of-type {\n",
       "        vertical-align: middle;\n",
       "    }\n",
       "\n",
       "    .dataframe tbody tr th {\n",
       "        vertical-align: top;\n",
       "    }\n",
       "\n",
       "    .dataframe thead th {\n",
       "        text-align: right;\n",
       "    }\n",
       "</style>\n",
       "<table border=\"1\" class=\"dataframe\">\n",
       "  <thead>\n",
       "    <tr style=\"text-align: right;\">\n",
       "      <th></th>\n",
       "      <th>PIB (2015)</th>\n",
       "    </tr>\n",
       "    <tr>\n",
       "      <th>Município_</th>\n",
       "      <th></th>\n",
       "    </tr>\n",
       "  </thead>\n",
       "  <tbody>\n",
       "    <tr>\n",
       "      <th>GOIANIA</th>\n",
       "      <td>46632596</td>\n",
       "    </tr>\n",
       "    <tr>\n",
       "      <th>ANAPOLIS</th>\n",
       "      <td>13301497</td>\n",
       "    </tr>\n",
       "    <tr>\n",
       "      <th>APARECIDA DE GOIANIA</th>\n",
       "      <td>11518675</td>\n",
       "    </tr>\n",
       "  </tbody>\n",
       "</table>\n",
       "</div>"
      ],
      "text/plain": [
       "                      PIB (2015)\n",
       "Município_                      \n",
       "GOIANIA                 46632596\n",
       "ANAPOLIS                13301497\n",
       "APARECIDA DE GOIANIA    11518675"
      ]
     },
     "execution_count": 31,
     "metadata": {},
     "output_type": "execute_result"
    }
   ],
   "source": [
    "go[['Município_','PIB (2015)']].set_index('Município_').sort_values(by=[ 'PIB (2015)'],ascending=False).head(3)"
   ]
  },
  {
   "cell_type": "markdown",
   "metadata": {
    "hideCode": false,
    "hidePrompt": false
   },
   "source": [
    "### Cidades com menores PIB per capita GO"
   ]
  },
  {
   "cell_type": "code",
   "execution_count": 32,
   "metadata": {
    "hideCode": false,
    "hidePrompt": false
   },
   "outputs": [
    {
     "data": {
      "text/html": [
       "<div>\n",
       "<style scoped>\n",
       "    .dataframe tbody tr th:only-of-type {\n",
       "        vertical-align: middle;\n",
       "    }\n",
       "\n",
       "    .dataframe tbody tr th {\n",
       "        vertical-align: top;\n",
       "    }\n",
       "\n",
       "    .dataframe thead th {\n",
       "        text-align: right;\n",
       "    }\n",
       "</style>\n",
       "<table border=\"1\" class=\"dataframe\">\n",
       "  <thead>\n",
       "    <tr style=\"text-align: right;\">\n",
       "      <th></th>\n",
       "      <th>PIB (2015)</th>\n",
       "    </tr>\n",
       "    <tr>\n",
       "      <th>Município_</th>\n",
       "      <th></th>\n",
       "    </tr>\n",
       "  </thead>\n",
       "  <tbody>\n",
       "    <tr>\n",
       "      <th>ANHANGUERA</th>\n",
       "      <td>16119</td>\n",
       "    </tr>\n",
       "    <tr>\n",
       "      <th>JESUPOLIS</th>\n",
       "      <td>25120</td>\n",
       "    </tr>\n",
       "    <tr>\n",
       "      <th>CACHOEIRA DE GOIAS</th>\n",
       "      <td>25836</td>\n",
       "    </tr>\n",
       "  </tbody>\n",
       "</table>\n",
       "</div>"
      ],
      "text/plain": [
       "                    PIB (2015)\n",
       "Município_                    \n",
       "ANHANGUERA               16119\n",
       "JESUPOLIS                25120\n",
       "CACHOEIRA DE GOIAS       25836"
      ]
     },
     "execution_count": 32,
     "metadata": {},
     "output_type": "execute_result"
    }
   ],
   "source": [
    "go[['Município_','PIB (2015)']].set_index('Município_').sort_values(by=[ 'PIB (2015)'],ascending=True).head(3)"
   ]
  },
  {
   "cell_type": "markdown",
   "metadata": {
    "hideCode": false,
    "hidePrompt": false
   },
   "source": [
    "### Cidades com maiores PIB per capita RN"
   ]
  },
  {
   "cell_type": "code",
   "execution_count": 33,
   "metadata": {
    "hideCode": false,
    "hidePrompt": false
   },
   "outputs": [
    {
     "data": {
      "text/html": [
       "<div>\n",
       "<style scoped>\n",
       "    .dataframe tbody tr th:only-of-type {\n",
       "        vertical-align: middle;\n",
       "    }\n",
       "\n",
       "    .dataframe tbody tr th {\n",
       "        vertical-align: top;\n",
       "    }\n",
       "\n",
       "    .dataframe thead th {\n",
       "        text-align: right;\n",
       "    }\n",
       "</style>\n",
       "<table border=\"1\" class=\"dataframe\">\n",
       "  <thead>\n",
       "    <tr style=\"text-align: right;\">\n",
       "      <th></th>\n",
       "      <th>PIB (2015)</th>\n",
       "    </tr>\n",
       "    <tr>\n",
       "      <th>Município_</th>\n",
       "      <th></th>\n",
       "    </tr>\n",
       "  </thead>\n",
       "  <tbody>\n",
       "    <tr>\n",
       "      <th>NATAL</th>\n",
       "      <td>20904276</td>\n",
       "    </tr>\n",
       "    <tr>\n",
       "      <th>MOSSORO</th>\n",
       "      <td>6046733</td>\n",
       "    </tr>\n",
       "    <tr>\n",
       "      <th>PARNAMIRIM</th>\n",
       "      <td>4597280</td>\n",
       "    </tr>\n",
       "  </tbody>\n",
       "</table>\n",
       "</div>"
      ],
      "text/plain": [
       "            PIB (2015)\n",
       "Município_            \n",
       "NATAL         20904276\n",
       "MOSSORO        6046733\n",
       "PARNAMIRIM     4597280"
      ]
     },
     "execution_count": 33,
     "metadata": {},
     "output_type": "execute_result"
    }
   ],
   "source": [
    "rn[['Município_','PIB (2015)']].set_index('Município_').sort_values(by=[ 'PIB (2015)'],ascending=False).head(3)"
   ]
  },
  {
   "cell_type": "markdown",
   "metadata": {
    "hideCode": false,
    "hidePrompt": false
   },
   "source": [
    "### Cidades com menores PIB per capita RN"
   ]
  },
  {
   "cell_type": "code",
   "execution_count": 34,
   "metadata": {
    "hideCode": false,
    "hidePrompt": false
   },
   "outputs": [
    {
     "data": {
      "text/html": [
       "<div>\n",
       "<style scoped>\n",
       "    .dataframe tbody tr th:only-of-type {\n",
       "        vertical-align: middle;\n",
       "    }\n",
       "\n",
       "    .dataframe tbody tr th {\n",
       "        vertical-align: top;\n",
       "    }\n",
       "\n",
       "    .dataframe thead th {\n",
       "        text-align: right;\n",
       "    }\n",
       "</style>\n",
       "<table border=\"1\" class=\"dataframe\">\n",
       "  <thead>\n",
       "    <tr style=\"text-align: right;\">\n",
       "      <th></th>\n",
       "      <th>PIB (2015)</th>\n",
       "    </tr>\n",
       "    <tr>\n",
       "      <th>Município_</th>\n",
       "      <th></th>\n",
       "    </tr>\n",
       "  </thead>\n",
       "  <tbody>\n",
       "    <tr>\n",
       "      <th>VICOSA</th>\n",
       "      <td>14837</td>\n",
       "    </tr>\n",
       "    <tr>\n",
       "      <th>JOAO DIAS</th>\n",
       "      <td>18510</td>\n",
       "    </tr>\n",
       "    <tr>\n",
       "      <th>MONTE DAS GAMELEIRAS</th>\n",
       "      <td>19692</td>\n",
       "    </tr>\n",
       "  </tbody>\n",
       "</table>\n",
       "</div>"
      ],
      "text/plain": [
       "                      PIB (2015)\n",
       "Município_                      \n",
       "VICOSA                     14837\n",
       "JOAO DIAS                  18510\n",
       "MONTE DAS GAMELEIRAS       19692"
      ]
     },
     "execution_count": 34,
     "metadata": {},
     "output_type": "execute_result"
    }
   ],
   "source": [
    "rn[['Município_','PIB (2015)']].set_index('Município_').sort_values(by=[ 'PIB (2015)'],ascending=True).head(3)"
   ]
  },
  {
   "cell_type": "markdown",
   "metadata": {
    "hideCode": false,
    "hidePrompt": false
   },
   "source": [
    "## Qual a porcetagem de poluação jovem e idosa de cada estado?\n",
    "\n",
    "\n",
    "Foi considerado jovem toda a população abaixo dos 60 anos de idade.\n",
    "\n",
    "Ficou claro que a população de ambos os estados são de maioria jovem."
   ]
  },
  {
   "cell_type": "markdown",
   "metadata": {
    "hideCode": false,
    "hidePrompt": false
   },
   "source": [
    "Goiás:"
   ]
  },
  {
   "cell_type": "code",
   "execution_count": 35,
   "metadata": {
    "hideCode": false,
    "hidePrompt": false
   },
   "outputs": [
    {
     "data": {
      "image/png": "[encoded data removed]",
      "text/plain": [
       "<Figure size 576x576 with 1 Axes>"
      ]
     },
     "metadata": {},
     "output_type": "display_data"
    }
   ],
   "source": [
    "totalIdosos = go['População Total| 60 e mais'].sum()\n",
    "total = go['População Total'].sum()\n",
    "\n",
    "(totalIdosos * 100)/total\n",
    "\n",
    "\n",
    "# Data to plot\n",
    "labels = 'Jovens', 'Idosos'\n",
    "sizes = [total - totalIdosos, totalIdosos]\n",
    "colors = ['green', 'yellow']\n",
    "\n",
    "# Plot\n",
    "plt.pie(sizes,labels=labels, colors=colors,\n",
    "autopct='%1.1f%%', shadow=True, startangle=140)\n",
    "\n",
    "plt.axis('equal')\n",
    "plt.title(\"Jovens/Idosos GO\")\n",
    "plt.show()"
   ]
  },
  {
   "cell_type": "markdown",
   "metadata": {
    "hideCode": false,
    "hidePrompt": false
   },
   "source": [
    "RN"
   ]
  },
  {
   "cell_type": "code",
   "execution_count": 36,
   "metadata": {
    "hideCode": false,
    "hidePrompt": false
   },
   "outputs": [
    {
     "data": {
      "image/png": "[encoded data removed]",
      "text/plain": [
       "<Figure size 576x576 with 1 Axes>"
      ]
     },
     "metadata": {},
     "output_type": "display_data"
    }
   ],
   "source": [
    "totalIdosos = rn['População Total| 60 e mais'].sum()\n",
    "total = rn['População Total'].sum()\n",
    "\n",
    "(totalIdosos * 100)/total\n",
    "\n",
    "\n",
    "# Data to plot\n",
    "labels = 'Jovens', 'Idosos'\n",
    "sizes = [total - totalIdosos, totalIdosos]\n",
    "colors = ['green', 'white']\n",
    "\n",
    "# Plot\n",
    "plt.pie(sizes,labels=labels, colors=colors,\n",
    "autopct='%1.1f%%', shadow=True, startangle=140)\n",
    "\n",
    "plt.axis('equal')\n",
    "plt.title(\"Jovens/Idosos RN\")\n",
    "plt.show()"
   ]
  },
  {
   "cell_type": "markdown",
   "metadata": {
    "hideCode": false,
    "hidePrompt": false
   },
   "source": [
    "## Qual a porcetagem de poluação de homens e mulheres de cada estado?\n",
    "\n",
    "Neste quesito os estados estão bem equilibrados.\n",
    "\n",
    "Goiás possui 50% de homens e mulheres\n",
    "Já o Rio Grande do Norte possui 50,8% de mulheres e 49,2 de homens em sua população."
   ]
  },
  {
   "cell_type": "markdown",
   "metadata": {
    "hideCode": false,
    "hidePrompt": false
   },
   "source": [
    "GO:"
   ]
  },
  {
   "cell_type": "code",
   "execution_count": 37,
   "metadata": {
    "hideCode": false,
    "hidePrompt": false
   },
   "outputs": [
    {
     "data": {
      "image/png": "[encoded data removed]",
      "text/plain": [
       "<Figure size 576x576 with 1 Axes>"
      ]
     },
     "metadata": {},
     "output_type": "display_data"
    }
   ],
   "source": [
    "homens_r = go['Homens'].sum()\n",
    "mulheres_r = go['Mulheres'].sum()\n",
    "\n",
    "# Data to plot\n",
    "labels = 'Homens', 'Mulhers'\n",
    "sizes = [homens_r, mulheres_r]\n",
    "\n",
    "# Plot\n",
    "plt.pie(sizes,labels=labels,\n",
    "autopct='%1.1f%%', shadow=True, startangle=140)\n",
    "\n",
    "plt.axis('equal')\n",
    "plt.title(\"Homens/Mulheres GO\")\n",
    "plt.show()"
   ]
  },
  {
   "cell_type": "markdown",
   "metadata": {
    "hideCode": false,
    "hidePrompt": false
   },
   "source": [
    "RN:"
   ]
  },
  {
   "cell_type": "code",
   "execution_count": 38,
   "metadata": {
    "hideCode": false,
    "hidePrompt": false
   },
   "outputs": [
    {
     "data": {
      "image/png": "[encoded data removed]",
      "text/plain": [
       "<Figure size 576x576 with 1 Axes>"
      ]
     },
     "metadata": {},
     "output_type": "display_data"
    }
   ],
   "source": [
    "homens_r = rn['Homens'].sum()\n",
    "mulheres_r = rn['Mulheres'].sum()\n",
    "\n",
    "# Data to plot\n",
    "labels = 'Homens', 'Mulhers'\n",
    "sizes = [homens_r, mulheres_r]\n",
    "\n",
    "# Plot\n",
    "plt.pie(sizes,labels=labels,\n",
    "autopct='%1.1f%%', shadow=True, startangle=140)\n",
    "\n",
    "plt.axis('equal')\n",
    "plt.title(\"Homens/Mulheres RN\")\n",
    "plt.show()"
   ]
  },
  {
   "cell_type": "markdown",
   "metadata": {
    "hideCode": false,
    "hidePrompt": false
   },
   "source": [
    "## Qual a proporção de empresas que atuam nos ramos, Comércio,Indústria,Serviços e Agribusiness de cada estado?"
   ]
  },
  {
   "cell_type": "code",
   "execution_count": 39,
   "metadata": {
    "hideCode": false,
    "hidePrompt": false
   },
   "outputs": [
    {
     "data": {
      "image/png": "[encoded data removed]",
      "text/plain": [
       "<Figure size 576x576 with 1 Axes>"
      ]
     },
     "metadata": {},
     "output_type": "display_data"
    }
   ],
   "source": [
    "comercio = go['Comércio'].sum()\n",
    "ind = go['Indústria'].sum()\n",
    "servicos = go['Serviços'].sum()\n",
    "agro = go['Agribusiness'].sum()\n",
    "\n",
    "# Data to plot\n",
    "labels = 'Comércio', 'Indústria', 'Serviços', 'Agribusiness'\n",
    "sizes = [comercio, ind,servicos,agro]\n",
    "\n",
    "# Plot\n",
    "plt.pie(sizes,labels=labels,\n",
    "autopct='%1.1f%%', shadow=True, startangle=140)\n",
    "\n",
    "plt.axis('equal')\n",
    "plt.title(\"Comércio,Indústria,Serviços e Agribusiness GO\")\n",
    "plt.show()\n"
   ]
  },
  {
   "cell_type": "code",
   "execution_count": 42,
   "metadata": {
    "hideCode": false,
    "hidePrompt": false
   },
   "outputs": [
    {
     "data": {
      "image/png": "[encoded data removed]",
      "text/plain": [
       "<Figure size 576x576 with 1 Axes>"
      ]
     },
     "metadata": {},
     "output_type": "display_data"
    }
   ],
   "source": [
    "comercio = rn['Comércio'].sum()\n",
    "ind = rn['Indústria'].sum()\n",
    "servicos = rn['Serviços'].sum()\n",
    "agro = rn['Agribusiness'].sum()\n",
    "\n",
    "# Data to plot\n",
    "labels = 'Comércio', 'Indústria', 'Serviços', 'Agribusiness'\n",
    "sizes = [comercio, ind,servicos,agro]\n",
    "\n",
    "# Plot\n",
    "plt.pie(sizes,labels=labels,\n",
    "autopct='%1.1f%%', shadow=True, startangle=140)\n",
    "\n",
    "plt.axis('equal')\n",
    "plt.title(\"Comércio,Indústria,Serviços e Agribusiness RN\")\n",
    "plt.show()"
   ]
  },
  {
   "cell_type": "markdown",
   "metadata": {},
   "source": [
    "A proprorção é bem semalhante entre os estados"
   ]
  },
  {
   "cell_type": "markdown",
   "metadata": {},
   "source": [
    "# Conclusão\n",
    "\n",
    "\n",
    "Ambos os estados apresentaram queda nas vendas do perído de 2016 à 2017.\n",
    "O produto B sempre obteve um melhor resultado que o produto A. O produto A foi o que mais decresceu o número de vendas(proporcionalmente). \n",
    "\n",
    "Analisando a média e a mediana vemos a mesma queda dos números absolutos, o desvio padrão mostra que os dados da amostra do produto A estavam bem próximos da média, já o produto B obteve um desvio muito expressivo, principalmente no estado de Goiás.\n",
    "\n",
    "Não há uma correlação entre a variável \"Distância da capital\" e as vendas do produto A em 2016.\n",
    "\n",
    "A diferença entre os melhores municípios e o piores na questão de venda é bem grande, o estado de Goiás apresenta melhores números.\n",
    "\n",
    "A população dos estados é majoritariamente jovem. E o numero de homens e mulheres é equilibrado.\n",
    "\n",
    "Na análise final o produto B, apesar da queda, tem um melhor aproveitamento que o produto A. E não há relação entre as vendas e a distância da capital nos estados analisados.\n"
   ]
  }
 ],
 "metadata": {
  "hide_code_all_hidden": false,
  "kernelspec": {
   "display_name": "Python 3",
   "language": "python",
   "name": "python3"
  },
  "language_info": {
   "codemirror_mode": {
    "name": "ipython",
    "version": 3
   },
   "file_extension": ".py",
   "mimetype": "text/x-python",
   "name": "python",
   "nbconvert_exporter": "python",
   "pygments_lexer": "ipython3",
   "version": "3.7.3"
  }
 },
 "nbformat": 4,
 "nbformat_minor": 2
}
